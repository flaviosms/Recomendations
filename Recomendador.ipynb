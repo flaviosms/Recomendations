{
 "cells": [
  {
   "cell_type": "code",
   "execution_count": null,
   "metadata": {},
   "outputs": [],
   "source": [
    "import pandas as pd\n",
    "import numpy as np"
   ]
  },
  {
   "cell_type": "code",
   "execution_count": 2,
   "metadata": {},
   "outputs": [],
   "source": [
    "basedf = pd.read_excel('dados_vendas.xlsx')"
   ]
  },
  {
   "cell_type": "code",
   "execution_count": 3,
   "metadata": {},
   "outputs": [
    {
     "name": "stdout",
     "output_type": "stream",
     "text": [
      "257393 64348\n"
     ]
    }
   ],
   "source": [
    "basedf.sort_values(['HORA'],ascending=[1]) #Ordenando os dados pela HORA\n",
    "percentage=0.8\n",
    "cutpoint=round(len(basedf)*percentage) #Dividindo a base em treinamento e teste\n",
    "train,test=basedf[:cutpoint],basedf[cutpoint:]\n",
    "print(len(train),len(test))"
   ]
  },
  {
   "cell_type": "code",
   "execution_count": 4,
   "metadata": {},
   "outputs": [],
   "source": [
    "df= train[['COD_CLIENTE','COD_PRODUTO']] #Selecionando apenas as colunas que vão ser usadas\n",
    "df=df.drop_duplicates(keep='first') #Retirando linhas duplicadas, clientes que compraram o mesmo produto mais de uma vez\n",
    "v=df['COD_CLIENTE'].nunique() #Verificando o número de clientes\n",
    "u=df['COD_PRODUTO'].nunique() #Verificando o número de produtos\n",
    "convert_cliente={} #Array de conversão de ID do cliente para identificador inteiro começando por 0\n",
    "revert_cliente=['' for x in range(v)]\n",
    "c=0\n",
    "for x in df['COD_CLIENTE'].unique():\n",
    "    convert_cliente[x]=c\n",
    "    revert_cliente[c]=x\n",
    "    c+=1\n",
    "convert_produto={}\n",
    "revert_produto=['' for x in range(u)]\n",
    "c=0\n",
    "for x in df['COD_PRODUTO'].unique():\n",
    "    convert_produto[x]=c\n",
    "    revert_produto[c]=x\n",
    "    c+=1\n",
    "lista_adj=[[] for x in range(v)] #Inicialização da lista de adjacência\n",
    "lista_adj_u=[[] for x in range(u)]\n",
    "for i,j in df.iterrows():\n",
    "    lista_adj[convert_cliente[j[0]]].append(convert_produto[j[1]])\n",
    "    lista_adj_u[convert_produto[j[1]]].append(convert_cliente[j[0]])\n",
    "outputname=\"Adjacency_list.txt\"\n",
    "text_file = open(outputname, \"w\")\n",
    "text_file.write(str(v)+'\\n')\n",
    "text_file.write(str(u)+'\\n')\n",
    "for j in lista_adj:\n",
    "    txt=str(j)[1:-1].replace(',',' ')\n",
    "    text_file.write( txt+'\\n')\n",
    "text_file.close()\n"
   ]
  },
  {
   "cell_type": "markdown",
   "metadata": {},
   "source": [
    "Nessa proxima seção está o código que chama o agrupador do professor gilberto, o código que está em C++ deve ser compilado previamente e a celula anterior que salva o arquivo Adjacency_list.txt também deve ter sido rodada ao menos uma vez."
   ]
  },
  {
   "cell_type": "code",
   "execution_count": 5,
   "metadata": {},
   "outputs": [],
   "source": [
    "import shlex\n",
    "from subprocess import Popen, PIPE\n",
    "def get_exitcode_stdout_stderr(cmd):\n",
    "    \"\"\"\n",
    "    Execute the external command and get its exitcode, stdout and stderr.\n",
    "    \"\"\"\n",
    "    args = shlex.split(cmd)\n",
    "\n",
    "    proc = Popen(args, stdout=PIPE, stderr=PIPE)\n",
    "    out, err = proc.communicate()\n",
    "    exitcode = proc.returncode\n",
    "    #\n",
    "    return exitcode, out, err\n",
    "\n",
    "cmd = './AMRPB Adjacency_list.txt'  # arbitrary external command, e.g. \"python mytest.py\"\n",
    "exitcode, out, err = get_exitcode_stdout_stderr(cmd)"
   ]
  },
  {
   "cell_type": "markdown",
   "metadata": {},
   "source": [
    "Na proxima celula é feita uma manipulação dos dados de saída do programa para eles serem melhor interpretados pelo recomendador, primeiro criamos o array da usando split no texto retornado e após isso são criadas as estruturas de bicluster "
   ]
  },
  {
   "cell_type": "code",
   "execution_count": 6,
   "metadata": {},
   "outputs": [
    {
     "name": "stdout",
     "output_type": "stream",
     "text": [
      "[[85, 90, 123], [67, 90, 106], [1, 66, 77, 79, 94, 95, 103, 105, 111, 117, 123], [], [], [87, 106], [88, 98], [], [], [98, 130], [2, 18, 61], [90, 108], [], [90], [112, 133], [], [12, 13, 14, 58, 75, 90, 94, 106, 108, 123, 131, 133], [], [], [1, 39, 46], [0, 15, 42, 55], [90], [], [], [67, 79], [], [86], [], [], [], [], [72, 108], [72, 98], [], [93], [], [], [], [], [99, 126], [125], [90], [], [], [], [], [], [67, 90, 109], [90], [], [98], [], [], [90], [17, 37, 57], [0, 10, 33, 61], [], [], [], [67, 103], [], [14, 18, 52], [67], [44, 49], [], [86], [107], [86, 88], [], [], [], [], [], [], [], [3, 36, 65], [], [17, 43, 57], [123], [], [13, 33, 54], [], [15, 18, 56], [86, 90], [], [67, 93, 116], [106], [], [], [], [16, 33, 46], [37, 53], [], [], [99], [6, 31, 59], [51], [8, 28, 49], [5, 24, 53], [], [11, 36, 48], [], [], [93], [], [99, 116], [], [], [], [8, 24, 63], [86], [], [14, 22, 51], [99], [43, 56], [14, 34, 60], [70], [88], [33], [], [], [], [], [], [], [], [], [36, 59], [16, 33, 46], [], [], [90, 129, 134, 140], [], [], [], [8, 29, 63], [], [], [], [86], [0, 15, 20, 62], [], [], [], [10, 20, 46], [7, 19, 45], [7, 19, 45], [3, 36, 55], [11, 24, 49], [6, 29, 59], [], [42, 65], [], [2, 31, 59], [111], [106], [36], [30], [], [125], [47], [], [90], [67], [], [44, 51], [12, 18, 47], [99], [37, 51], [], [], [], [4, 21, 52], [106, 130], [107], [6, 24, 65], [11, 28, 50], [48], [], [5, 30, 58], [81], [], [11, 22, 52], [], [], [10, 25, 45], [35, 63], [0, 4, 38, 55], [], [66], [15, 31, 50], [16, 43, 56], [], [72], [87], [], [85], [64], [30], [93], [68], [], [], [10, 37, 48], [109], [], [74], [], [13, 38, 49], [], [], [], [], [41], [11, 35, 61], [0, 1, 21, 65], [], [], [], [], [7, 30, 58], [], [9, 34, 46], [9, 31, 50], [78], [], [], [], [], [], [12, 23, 60], [1, 34, 45], [], [20, 60], [], [], [16, 49], [], [27], [], [26, 54], [1, 37, 46], [], [4, 39, 63], [11, 35, 61], [88], [25, 55], [13, 39, 50], [], [91], [84], [85], [25], [71], [], [6, 40, 57], [5, 22, 58], [], [], [39, 58], [24, 54], [16, 31, 52], [], [], [42], [131], [91], [1, 26, 56], [], [126], [5, 27, 53], [3, 32, 64], [37, 64], [108], [36, 53], [15, 24, 50], [76], [95], [5, 31, 53], [], [10, 38, 45], [], [40], [69], [22], [], [4, 39, 63], [13, 33, 54], [94], [38], [], [23], [32, 63], [3], [], [15, 44, 51], [90, 128], [128], [2, 26, 55], [117], [43, 56], [27], [], [32], [83], [89], [68], [11, 41, 48], [], [12, 25, 65], [21], [39, 57], [14, 22, 56], [7, 23, 54], [], [77], [9, 37, 47], [116], [], [93], [12, 29, 47], [7, 23, 54], [42, 65], [41, 64], [], [], [], [], [41, 57], [37], [98], [], [99], [7, 19, 45], [17, 34, 60], [100], [75], [], [102], [7, 26, 58], [], [43], [123], [34], [15, 34, 56], [20], [105], [103], [8, 25, 52], [134], [], [109], [], [116, 131], [18], [104], [42], [14, 32, 50], [], [28], [26], [], [], [92], [2, 19, 55], [], [], [106], [23], [], [], [], [17, 30, 51], [], [4, 40, 49], [], [111], [38], [], [41], [39, 60], [39], [90], [5, 18, 53], [], [], [], [], [118], [2, 52], [], [73], [25, 58], [], [125], [], [96], [111, 121], [], [32, 63], [29, 65], [12, 27, 65], [113], [114], [], [47], [136], [2, 19, 55], [], [19], [], [], [115], [], [42], [2, 34, 61], [40], [119], [], [], [79], [85], [3, 18, 64], [], [96, 116, 128], [108], [], [], [], [82], [90, 106], [86], [], [120], [], [], [], [], [], [], [], [35, 63], [], [86, 90, 99, 134], [], [36, 59], [10, 21, 47], [17, 34, 53], [], [], [], [], [85], [131], [], [44, 61], [123], [110], [126], [128], [120], [29, 62], [], [122], [], [124], [], [], [], [], [], [], [9, 52], [], [], [], [116], [], [137], [], [], [], [127], [127], [101], [], [], [], [90], [], [], [], [106], [9, 28, 55], [], [], [2, 52], [], [], [3, 35, 48], [19], [112], [], [], [], [], [44, 62], [130], [], [], [80], [], [8, 28, 48], [], [], [], [], [], [], [13, 27, 62], [], [], [], [], [97], [134], [], [], [], [], [], [], [87], [], [], [], [121], [21], [], [135], [18, 61], [], [], [], [138], [], [], [], [], [], [6, 18, 57], [133], [], [], [], [14, 40, 51], [], [], [], [], [], [], [139], [13, 20, 62], [140], [], [], [], [], [], [], [], [], [], [], [], [], [], [], [], [], [], [], [], [], [], [], [107], [], [], [], [129], [39, 61], [], [], [], [], [], [], [132], [], [], [], [], [], [], [], [], [], [], [], [], [], [141], [27], [], [], [], [], [38, 65], [], [], [], [125], [], [36], [], [], [], [], [], [], [], []]\n"
     ]
    }
   ],
   "source": [
    "\n",
    "f = out.decode(\"utf-8\").split('\\n')[-1]\n",
    "nonnumbers=['(',')','}',']']\n",
    "text=f.split('}')\n",
    "clustertext=text[0].split('[')\n",
    "solotext=text[1].split('(')\n",
    "#print(len(solotext[2]))\n",
    "biclusters=[]\n",
    "v_cluster=[[] for x in range(v)]\n",
    "u_cluster=[[] for x in range(u)]\n",
    "#Clusters\n",
    "for i,a in enumerate(clustertext[1:]):\n",
    "    bicluster=[]\n",
    "    for j,b in enumerate(a.split('),')):\n",
    "        array=[]\n",
    "        for k,c in enumerate(b.replace('],','').split(',')):\n",
    "            txt=c\n",
    "            for r in nonnumbers:\n",
    "                txt=txt.replace(r, \"\")\n",
    "            if(txt!=''):\n",
    "                code=int(txt)\n",
    "                array.append(code)\n",
    "                if(not j):\n",
    "                    v_cluster[code].append(i)\n",
    "                else:\n",
    "                    u_cluster[code].append(i)\n",
    "        bicluster.append(array)\n",
    "    biclusters.append(bicluster)\n",
    "#Solos\n",
    "#for i,a in enumerate(solotext[1:]):\n",
    "#    for j,b in enumerate(a.split(',')):\n",
    "#        txt=b\n",
    "#        for r in nonnumbers:\n",
    "#            txt=txt.replace(r, \"\")\n",
    "#       if(txt!=''):\n",
    "#           code=int(txt)\n",
    "#            new_row = {'code':code, 'cluster':None }\n",
    "#            if(j):\n",
    "#               v_cluster[code].append()\n",
    "#           else:\n",
    "#                u_cluster[code].append()\n",
    "print(u_cluster)"
   ]
  },
  {
   "cell_type": "markdown",
   "metadata": {},
   "source": [
    "Nessa parte foi feita uma função que determina a similaridade de dois produtos baseado na lista de adjacência u que é passada como parâmetro e os clusters gerados pelo agrupador"
   ]
  },
  {
   "cell_type": "code",
   "execution_count": 7,
   "metadata": {},
   "outputs": [],
   "source": [
    "def similarity (cod_viewed,cod_recomended,lista_adj_u,cluster_u):\n",
    "    total=len(cluster_u)\n",
    "    partial=len(set(cluster_u) & set(lista_adj_u[cod_recomended]))\n",
    "    #print(total,partial)\n",
    "    #print(set(recomendations) & set(lista_adj_u[cod_recomended]),sep='\\n')\n",
    "    if(partial==0):\n",
    "        return 0\n",
    "    return partial/total\n",
    "        "
   ]
  },
  {
   "cell_type": "code",
   "execution_count": 8,
   "metadata": {},
   "outputs": [],
   "source": [
    "#def similarity (cod_viewed,cod_recomended,lista_adj_u,recomendations):\n",
    "#    total=len(recomendations)\n",
    "#    clusters\n",
    "#    partial=len(set(recomendations) & set(lista_adj_u[cod_recomended]))\n",
    "#    print(total,partial)\n",
    "#    print(set(recomendations) & set(lista_adj_u[cod_recomended]),sep='\\n')\n",
    "#    if(partial==0):\n",
    "#        return 0\n",
    "#    return partial/total\n",
    "        "
   ]
  },
  {
   "cell_type": "markdown",
   "metadata": {},
   "source": [
    "A partir dessa seção temos os códigos que geram a recomendação para o sistema além de mensurações de performance"
   ]
  },
  {
   "cell_type": "markdown",
   "metadata": {},
   "source": [
    "### Cliente"
   ]
  },
  {
   "cell_type": "code",
   "execution_count": 9,
   "metadata": {},
   "outputs": [],
   "source": [
    "def recomenda_cliente(cliente,convert_cliente,v_cluster,biclusters):\n",
    "    try:\n",
    "        recomendations=[]\n",
    "        cliente_key=convert_cliente[cliente]\n",
    "        clusters=v_cluster[cliente_key]\n",
    "        for a in clusters:\n",
    "            for j,b in enumerate(biclusters[a]):\n",
    "                if(j==1):\n",
    "                    for x in b:\n",
    "                        recomendations.append(x)\n",
    "        return recomendations\n",
    "    except KeyError:\n",
    "        return 404 #\"Cliente não encontrado\"\n",
    "    except:\n",
    "        return -1 #\"Erro inesperado encontrado, contacte o administrador\"\n"
   ]
  },
  {
   "cell_type": "markdown",
   "metadata": {},
   "source": [
    "### Produto"
   ]
  },
  {
   "cell_type": "code",
   "execution_count": 10,
   "metadata": {},
   "outputs": [],
   "source": [
    "def recomenda_produto(produto,convert_produto,u_cluster,biclusters):\n",
    "    try:\n",
    "        recomendations=[]\n",
    "        produto_key=convert_produto[produto]\n",
    "        clusters=u_cluster[produto_key]\n",
    "        scores=[]\n",
    "        for a in clusters:\n",
    "            for j,b in enumerate(biclusters[a]):\n",
    "                if(j==1):\n",
    "                    for x in b:\n",
    "                        if(x not in recomendations and x!= produto_key):\n",
    "                            recomendations.append(x)\n",
    "                            scores.append(similarity(produto_key,x,lista_adj_u,b))\n",
    "        return [recomendations,scores]\n",
    "    except KeyError:\n",
    "        return 404 #\"Produto não encontrado\"\n",
    "    except:\n",
    "        return -1 #\"Erro inesperado encontrado, contacte o administrador\"\n"
   ]
  },
  {
   "cell_type": "markdown",
   "metadata": {},
   "source": [
    "### Usando vizinhos segundos para clientes"
   ]
  },
  {
   "cell_type": "code",
   "execution_count": 11,
   "metadata": {},
   "outputs": [],
   "source": [
    "def recomenda_cliente_segundos(cliente,convert_cliente,v_cluster,biclusters):\n",
    "    try:\n",
    "        recomendations=[]\n",
    "        cliente_key=convert_cliente[cliente]\n",
    "        clusters=v_cluster[cliente_key]\n",
    "        for a in clusters:\n",
    "            for j,b in enumerate(biclusters[a]):\n",
    "                if(j==1):\n",
    "                    for x in b:\n",
    "                        recomendations.append(x)\n",
    "                else:\n",
    "                    for viz in b:\n",
    "                        for clu in v_cluster[viz]:\n",
    "                            for i,el in enumerate(biclusters[clu]):\n",
    "                                if(i==1):\n",
    "                                    for pro in el:\n",
    "                                        if(pro not in recomendations):\n",
    "                                            #print(pro)\n",
    "                                            recomendations.append(pro)\n",
    "        #comprados=[]\n",
    "        #compras_cliente=newdf[newdf.COD_CLIENTE==cliente]\n",
    "        #for x in compras_cliente.COD_PRODUTO:\n",
    "        #    comprados.append(convert_produto[x])\n",
    "        #recomendations=list(filter(lambda a: a not in comprados, recomendations))\n",
    "        return recomendations\n",
    "    except KeyError:\n",
    "        return 404 #\"Cliente não encontrado\"\n",
    "    except:\n",
    "        return -1 #\"Erro inesperado encontrado, contacte o administrador\"\n"
   ]
  },
  {
   "cell_type": "markdown",
   "metadata": {},
   "source": [
    "### Usando vizinhos segundos para produtos"
   ]
  },
  {
   "cell_type": "code",
   "execution_count": 12,
   "metadata": {},
   "outputs": [],
   "source": [
    "def recomenda_produto_segundos(produto):\n",
    "    try:\n",
    "        recomendations=[]\n",
    "        produto_key=convert_produto[produto]\n",
    "        clusters=u_cluster[cliente_key]\n",
    "        for a in clusters:\n",
    "            for j,b in enumerate(biclusters[a]):\n",
    "                if(j==0):\n",
    "                    for x in b:\n",
    "                        recomendations.append(x)\n",
    "                else:\n",
    "                    for viz in b:\n",
    "                        for clu in v_cluster[viz]:\n",
    "                            for i,el in enumerate(biclusters[clu]):\n",
    "                                if(i==1):\n",
    "                                    for pro in el:\n",
    "                                        if(pro not in recomendations):\n",
    "                                            print(pro)\n",
    "                                            recomendations.append(pro)\n",
    "        print(recomendations)\n",
    "    except KeyError:\n",
    "        return 404 #\"Produto não encontrado\"\n",
    "    except:\n",
    "        return -1 #\"Erro inesperado encontrado, contacte o administrador\"\n"
   ]
  },
  {
   "cell_type": "code",
   "execution_count": 13,
   "metadata": {},
   "outputs": [],
   "source": [
    "import warnings\n",
    "warnings.simplefilter(action='ignore', category=FutureWarning)\n",
    "def convert_class(product,df):\n",
    "    return df.loc[df['COD_PRODUTO'] == int(product)]['CLASSIFICACAO'].values[0]\n",
    "    "
   ]
  },
  {
   "cell_type": "markdown",
   "metadata": {},
   "source": [
    "# Teste de performance\n",
    "#### Teste para recomendações partindo de produtos\n",
    "<img src=\"DiagramaAMPB.jpg\">"
   ]
  },
  {
   "cell_type": "code",
   "execution_count": 45,
   "metadata": {},
   "outputs": [
    {
     "name": "stdout",
     "output_type": "stream",
     "text": [
      "(62973, 2)\n"
     ]
    }
   ],
   "source": [
    "test= test[['COD_CLIENTE','COD_PRODUTO']]\n",
    "test=test.drop_duplicates(keep='first')\n",
    "v=test['COD_CLIENTE'].nunique()\n",
    "u=test['COD_PRODUTO'].nunique()\n",
    "print(test.shape)\n",
    "test_client=test[test['COD_CLIENTE'].isin(convert_cliente)]\n",
    "test_client.reset_index(drop=True,inplace=True)\n",
    "test_client=test_client.astype('str')\n",
    "test_client=test_client.groupby(by='COD_CLIENTE',as_index=False).agg(','.join)\n",
    "\n",
    "test_product=test[test['COD_PRODUTO'].isin(convert_produto)]\n",
    "test_product.reset_index(drop=True,inplace=True)\n",
    "test_product=test_product.astype('str')\n",
    "test_product=test_product.groupby(by='COD_PRODUTO',as_index=False).agg(','.join)"
   ]
  },
  {
   "cell_type": "markdown",
   "metadata": {},
   "source": [
    "## Por Cliente"
   ]
  },
  {
   "cell_type": "code",
   "execution_count": 66,
   "metadata": {},
   "outputs": [
    {
     "name": "stdout",
     "output_type": "stream",
     "text": [
      "Clientes na base de teste \t\t|Clientes após filtros \t\t|Clientes que receberam recomendações\n",
      "54681 \t\t\t\t\t| 13152 \t\t\t| 534\n",
      "Produtos Recomendados Corretamente \t|Total de Produtos recomendados\t|Porcentagem de acerto\t|Média de recomendações-cliente\n",
      "110 \t\t\t\t\t| 84673 \t\t\t| 0.12991154205000413 \t| 6.438032238442823\n",
      "Produtos comprados por quem recebeu recomendações\t|Porcentagem de clientes com alguma recomendação correta\n",
      "759 \t\t\t\t\t\t\t| 12.51646903820817\n"
     ]
    }
   ],
   "source": [
    "got_recomended=0\n",
    "right_recomendations=0\n",
    "buys_from_recomended=0\n",
    "totalrec=0\n",
    "correct_recomendation=0\n",
    "for i,x in test_client.iterrows():\n",
    "    total=len(x[1].split(','))\n",
    "    compras=x[1].split(',')\n",
    "    recomendations=recomenda_cliente_segundos(x[0],convert_cliente,v_cluster,biclusters)\n",
    "    recomendations=[revert_produto[x] for x in recomendations]\n",
    "    if(len(recomendations) >0):\n",
    "        buys_from_recomended+=len(compras)\n",
    "        got_recomended+=1\n",
    "    recomended=np.intersect1d(compras,recomendations)\n",
    "    totalrec+=len(recomendations)\n",
    "    if(recomended.size >0):\n",
    "        right_recomendations+=len(recomended)\n",
    "        correct_recomendation+=1\n",
    "print(\"Clientes na base de teste\",\"\\t\\t|Clientes após filtros\",\"\\t\\t|Clientes que receberam recomendações\")\n",
    "print(test['COD_CLIENTE'].nunique(),\"\\t\\t\\t\\t\\t|\",len(test_client),\"\\t\\t\\t|\",got_recomended)\n",
    "print(\"Produtos Recomendados Corretamente \\t|Total de Produtos recomendados\\t|Porcentagem de acerto\\t|Média de recomendações-cliente\")\n",
    "print(right_recomendations,\"\\t\\t\\t\\t\\t|\",totalrec,'\\t\\t\\t|',right_recomendations/totalrec*100,'\\t|',totalrec/len(test_client))\n",
    "print(\"Produtos comprados por quem recebeu recomendações\\t|Porcentagem de clientes com alguma recomendação correta\")\n",
    "print(buys_from_recomended,\"\\t\\t\\t\\t\\t\\t\\t|\",correct_recomendation/bought_and_got_recomended*100)"
   ]
  },
  {
   "cell_type": "markdown",
   "metadata": {},
   "source": [
    "#### Usando Classe"
   ]
  },
  {
   "cell_type": "code",
   "execution_count": 67,
   "metadata": {},
   "outputs": [
    {
     "name": "stdout",
     "output_type": "stream",
     "text": [
      "Clientes na base de teste \t\t|Clientes após filtros \t\t|Clientes que receberam recomendações\n",
      "54681 \t\t\t\t\t| 13152 \t\t\t| 534\n",
      "Classes Recomendados Corretamente \t|Total de Produtos recomendados\t|Porcentagem de acerto\t|Média de recomendações-cliente\n",
      "623 \t\t\t\t\t| 11813 \t\t\t| 5.27385084229239 \t| 0.8981903892944039\n",
      "Produtos comprados por quem recebeu recomendações\t|Porcentagem de clientes com alguma recomendação correta\n",
      "759 \t\t\t\t\t\t\t| 67.3254281949934\n"
     ]
    }
   ],
   "source": [
    "got_recomended=0\n",
    "correct_recomendation=0\n",
    "buys_from_recomended=0\n",
    "right_recomendations=0\n",
    "totalrec=0\n",
    "for i,x in test_client.iterrows():\n",
    "    total=len(x[1].split(','))\n",
    "    compras=x[1].split(',')\n",
    "    recomendations=recomenda_cliente_segundos(x[0],convert_cliente,v_cluster,biclusters)\n",
    "    recomendations=[revert_produto[x] for x in recomendations]\n",
    "    if(len(recomendations) >0):\n",
    "        buys_from_recomended+=len(compras)\n",
    "        got_recomended+=1\n",
    "    else:\n",
    "        continue\n",
    "    recomendations=np.unique([convert_class(x,basedf) for x in recomendations])\n",
    "    compras=[convert_class(x,basedf) for x in compras]\n",
    "    recomended=np.intersect1d(compras,recomendations)\n",
    "    totalrec+=len(recomendations)\n",
    "    if(recomended.size >0):\n",
    "        right_recomendations+=len(recomended)\n",
    "        correct_recomendation+=1\n",
    "print(\"Clientes na base de teste\",\"\\t\\t|Clientes após filtros\",\"\\t\\t|Clientes que receberam recomendações\")\n",
    "print(test['COD_CLIENTE'].nunique(),\"\\t\\t\\t\\t\\t|\",len(test_client),\"\\t\\t\\t|\",got_recomended)\n",
    "print(\"Classes Recomendados Corretamente \\t|Total de Produtos recomendados\\t|Porcentagem de acerto\\t|Média de recomendações-cliente\")\n",
    "print(right_recomendations,\"\\t\\t\\t\\t\\t|\",totalrec,'\\t\\t\\t|',right_recomendations/totalrec*100,'\\t|',totalrec/len(test_client))\n",
    "print(\"Produtos comprados por quem recebeu recomendações\\t|Porcentagem de clientes com alguma recomendação correta\")\n",
    "print(buys_from_recomended,\"\\t\\t\\t\\t\\t\\t\\t|\",correct_recomendation/buys_from_recomended*100)"
   ]
  },
  {
   "cell_type": "markdown",
   "metadata": {},
   "source": [
    "## Quem comprou também comprou"
   ]
  },
  {
   "cell_type": "code",
   "execution_count": 54,
   "metadata": {},
   "outputs": [
    {
     "name": "stdout",
     "output_type": "stream",
     "text": [
      "Produtos na base de teste \t|Produtos após filtros \t|Produtos Recomendados Corretamente\n",
      "459 \t\t\t\t| 378 \t\t\t| 278\n",
      "Total de Produtos recomendados\t|Porcentagem de acerto\t|Média de recomendações-produto\n",
      "2173 \t\t\t| 12.793373216751036 \t\t\t| 0.1652220194647202\n",
      "Porcentagem de produtos com alguma recomendação correta\n",
      "21.164021164021165\n"
     ]
    }
   ],
   "source": [
    "\n",
    "right_recomendations=0\n",
    "correct_recomendation=0\n",
    "totalrec=0\n",
    "cliente_search=test.reset_index(drop=True)\n",
    "cliente_search=cliente_search.astype('str')\n",
    "cliente_search=cliente_search.groupby(by='COD_CLIENTE',as_index=False).agg(','.join)\n",
    "cliente_search=cliente_search.set_index('COD_CLIENTE')\n",
    "for i,x in test_product.iterrows():\n",
    "    compras=[]\n",
    "    total=len(x[1].split(','))\n",
    "    compradores=x[1].split(',')\n",
    "    for y in compradores:\n",
    "        for z in cliente_search.loc[y].values:\n",
    "            for w in z.split(','):\n",
    "                if(w not in compras and w!=x[0]):\n",
    "                    compras.append(w)\n",
    "    recomendations=recomenda_produto(int(x[0]),convert_produto,u_cluster,biclusters)[0]\n",
    "    recomendations=[revert_produto[x] for x in recomendations]\n",
    "    recomended=np.intersect1d(compras,recomendations)\n",
    "    totalrec+=len(recomendations)\n",
    "    if(recomended.size >0):\n",
    "        right_recomendations+=len(recomended)\n",
    "        correct_recomendation+=1\n",
    "    #print(x[0],compras,recomendations)\n",
    "print(\"Produtos na base de teste\",\"\\t|Produtos após filtros\",\"\\t|Produtos Recomendados Corretamente\")\n",
    "print(test['COD_PRODUTO'].nunique(),\"\\t\\t\\t\\t|\",len(test_product),\"\\t\\t\\t|\",right_recomendations)\n",
    "print(\"Total de Produtos recomendados\\t|Porcentagem de acerto\\t|Média de recomendações-produto\")\n",
    "print(totalrec,'\\t\\t\\t|',right_recomendations/totalrec*100,'\\t\\t\\t|',totalrec/len(test_client))\n",
    "print(\"Porcentagem de produtos com alguma recomendação correta\")\n",
    "print(correct_recomendation/len(test_product)*100)"
   ]
  },
  {
   "cell_type": "markdown",
   "metadata": {},
   "source": [
    "#### Usando Classes"
   ]
  },
  {
   "cell_type": "code",
   "execution_count": 55,
   "metadata": {},
   "outputs": [
    {
     "name": "stdout",
     "output_type": "stream",
     "text": [
      "Produtos na base de teste \t|Produtos após filtros \t|Classes Recomendados Corretamente\n",
      "459 \t\t\t\t| 378 \t\t\t| 460\n",
      "Total de Produtos recomendados\t|Porcentagem de acerto\t|Média de recomendações-produto\n",
      "1135 \t\t\t| 40.52863436123348 \t\t\t| 0.08629866180048662\n",
      "Porcentagem de produtos com alguma recomendação correta\n",
      "45.23809523809524\n"
     ]
    }
   ],
   "source": [
    "right_recomendations=0\n",
    "totalrec=0\n",
    "correct_recomendation=0\n",
    "cliente_search=test.reset_index(drop=True)\n",
    "cliente_search=cliente_search.astype('str')\n",
    "cliente_search=cliente_search.groupby(by='COD_CLIENTE',as_index=False).agg(','.join)\n",
    "cliente_search=cliente_search.set_index('COD_CLIENTE')\n",
    "for i,x in test_product.iterrows():\n",
    "    compras=[]\n",
    "    total=len(x[1].split(','))\n",
    "    compradores=x[1].split(',')\n",
    "    for y in compradores:\n",
    "        for z in cliente_search.loc[y].values:\n",
    "            for w in z.split(','):\n",
    "                if(w not in compras and w!=x[0]):\n",
    "                    compras.append(w)\n",
    "    recomendations=recomenda_produto(int(x[0]),convert_produto,u_cluster,biclusters)[0]\n",
    "    recomendations=[revert_produto[x] for x in recomendations]\n",
    "    #recomendations=basedf.loc[basedf['COD_PRODUTO'].isin(recomendations)]['CLASSIFICACAO'].unique()\n",
    "    #compras=basedf.loc[basedf['COD_PRODUTO'].isin(compras)]['CLASSIFICACAO'].unique()\n",
    "    recomendations=np.unique([convert_class(x,basedf) for x in recomendations])\n",
    "    totalrec+=len(recomendations)\n",
    "    compras=[convert_class(x,basedf) for x in compras]\n",
    "    #print(len(compradores))\n",
    "    recomended=np.intersect1d(compras,recomendations)\n",
    "    if(recomended.size>0):\n",
    "        right_recomendations+=len(recomended)\n",
    "        correct_recomendation+=1\n",
    "    #print(x[0],compras,recomendations)\n",
    "print(\"Produtos na base de teste\",\"\\t|Produtos após filtros\",\"\\t|Classes Recomendados Corretamente\")\n",
    "print(test['COD_PRODUTO'].nunique(),\"\\t\\t\\t\\t|\",len(test_product),\"\\t\\t\\t|\",right_recomendations)\n",
    "print(\"Total de Produtos recomendados\\t|Porcentagem de acerto\\t|Média de recomendações-produto\")\n",
    "print(totalrec,'\\t\\t\\t|',right_recomendations/totalrec*100,'\\t\\t\\t|',totalrec/len(test_client))\n",
    "print(\"Porcentagem de produtos com alguma recomendação correta\")\n",
    "print(correct_recomendation/len(test_product)*100)"
   ]
  },
  {
   "cell_type": "code",
   "execution_count": null,
   "metadata": {},
   "outputs": [],
   "source": []
  }
 ],
 "metadata": {
  "kernelspec": {
   "display_name": "Python 3",
   "language": "python",
   "name": "python3"
  },
  "language_info": {
   "codemirror_mode": {
    "name": "ipython",
    "version": 3
   },
   "file_extension": ".py",
   "mimetype": "text/x-python",
   "name": "python",
   "nbconvert_exporter": "python",
   "pygments_lexer": "ipython3",
   "version": "3.8.5"
  }
 },
 "nbformat": 4,
 "nbformat_minor": 4
}
