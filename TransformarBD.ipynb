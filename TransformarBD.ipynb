{
 "cells": [
  {
   "cell_type": "code",
   "execution_count": 1,
   "metadata": {},
   "outputs": [],
   "source": [
    "import pandas as pd\n",
    "import numpy as np"
   ]
  },
  {
   "cell_type": "code",
   "execution_count": 2,
   "metadata": {},
   "outputs": [],
   "source": [
    "df = pd.read_excel('dados_vendas.xlsx')"
   ]
  },
  {
   "cell_type": "code",
   "execution_count": null,
   "metadata": {},
   "outputs": [],
   "source": [
    "compras=df.COD_CLIENTE.value_counts().to_frame()\n",
    "#compras[compras['COD_CLIENTE']>1].describe()\n",
    "#compras.describe()"
   ]
  },
  {
   "cell_type": "code",
   "execution_count": null,
   "metadata": {},
   "outputs": [],
   "source": [
    "n=len(compras)\n",
    "slices=10\n",
    "print(\"%\\tCount\\tMin\\tmean\\tstd\")\n",
    "for x in range(1,slices):\n",
    "    percentage=(slices-x)*(100/slices)\n",
    "    data=compras[:int(-n*(x/slices))]['COD_CLIENTE']\n",
    "    print(str(percentage)+\"%\",data.count(),data.min(),\"%.2f\"%data.mean(),\"%.2f\"%data.std(),sep='\\t')"
   ]
  },
  {
   "cell_type": "code",
   "execution_count": 136,
   "metadata": {
    "scrolled": true
   },
   "outputs": [
    {
     "name": "stdout",
     "output_type": "stream",
     "text": [
      "%\tCount\tMin\tmean\tstd\n",
      "90.0%\t644\t1\t499.49\t1348.54\n",
      "80.0%\t572\t1\t562.23\t1418.66\n",
      "70.0%\t501\t2\t641.70\t1499.13\n",
      "60.0%\t429\t4\t748.98\t1595.36\n",
      "50.0%\t358\t14\t896.09\t1708.87\n",
      "40.0%\t286\t61\t1113.49\t1849.90\n",
      "30.0%\t215\t198\t1442.33\t2029.60\n",
      "20.0%\t143\t509\t2001.41\t2294.39\n",
      "10.0%\t72\t1093\t3236.38\t2716.92\n"
     ]
    }
   ],
   "source": [
    "vendas=df.COD_PRODUTO.value_counts().to_frame()\n",
    "n=len(vendas)\n",
    "slices=10\n",
    "print(\"%\\tCount\\tMin\\tmean\\tstd\")\n",
    "for x in range(1,slices):\n",
    "    percentage=(slices-x)*(100/slices)\n",
    "    data=vendas[:int(-n*(x/slices))]['COD_PRODUTO']\n",
    "    print(str(percentage)+\"%\",data.count(),data.min(),\"%.2f\"%data.mean(),\"%.2f\"%data.std(),sep='\\t')"
   ]
  },
  {
   "cell_type": "code",
   "execution_count": 139,
   "metadata": {},
   "outputs": [
    {
     "name": "stdout",
     "output_type": "stream",
     "text": [
      "       COD_PRODUTO\n",
      "26243        14001\n",
      "21653        12909\n",
      "25727        10397\n",
      "25729        10264\n",
      "25726         8090\n",
      "25981         7633\n",
      "25996         6935\n",
      "25982         6855\n",
      "26222         6160\n",
      "25983         5675\n",
      "25354         5239\n",
      "25728         5142\n",
      "25172         4662\n",
      "25481         4620\n",
      "21647         4318\n",
      "25545         4105\n",
      "25303         4011\n",
      "23802         3912\n",
      "26005         3788\n",
      "26004         3560\n",
      "25676         3429\n",
      "26003         3374\n",
      "21255         3369\n",
      "25173         3106\n",
      "26324         3032\n",
      "19729         3020\n",
      "25355         2994\n",
      "25998         2951\n",
      "25546         2777\n",
      "25997         2752\n",
      "21854         2716\n",
      "26247         2686\n",
      "21256         2598\n",
      "21855         2431\n",
      "24913         2429\n",
      "25870         2420\n",
      "24716         2409\n",
      "25366         2322\n",
      "25933         2198\n",
      "22752         2157\n",
      "25730         2096\n",
      "26423         1957\n",
      "25577         1805\n",
      "26325         1745\n",
      "26007         1705\n",
      "14537         1703\n",
      "20966         1651\n",
      "26387         1615\n",
      "25904         1609\n",
      "25675         1608\n",
      "26008         1592\n",
      "25193         1576\n",
      "26006         1530\n",
      "26386         1450\n",
      "21603         1421\n",
      "26579         1398\n",
      "26548         1385\n",
      "26545         1335\n"
     ]
    }
   ],
   "source": [
    "vendas=df.COD_PRODUTO.value_counts().to_frame()\n",
    "print(vendas[:58])"
   ]
  },
  {
   "cell_type": "code",
   "execution_count": 131,
   "metadata": {},
   "outputs": [
    {
     "name": "stdout",
     "output_type": "stream",
     "text": [
      "IQR:  321.0\n",
      "58  Outliers excluidos\n",
      "%\tCount\tMin\tmean\tstd\n",
      "90.0%\t592\t1\t177.45\t297.60\n",
      "80.0%\t526\t1\t199.59\t308.70\n",
      "70.0%\t460\t2\t228.05\t320.20\n",
      "60.0%\t395\t3\t265.22\t331.12\n",
      "50.0%\t329\t8\t317.51\t339.54\n",
      "40.0%\t263\t33\t393.00\t340.30\n",
      "30.0%\t198\t102\t502.62\t324.06\n",
      "20.0%\t132\t286\t662.33\t281.71\n",
      "10.0%\t66\t607\t896.53\t197.75\n"
     ]
    }
   ],
   "source": [
    "vendas=df.COD_PRODUTO.value_counts().to_frame()\n",
    "first=np.percentile(vendas, 25)  \n",
    "third=np.percentile(vendas, 75)\n",
    "IQR=third-first\n",
    "print(\"IQR: \",IQR)\n",
    "outlier_threshold=3*IQR+third\n",
    "n_antigo=len(vendas)\n",
    "vendas=vendas[vendas['COD_PRODUTO']<outlier_threshold]\n",
    "n=len(vendas)\n",
    "print(n_antigo-n,\" Outliers excluidos\")\n",
    "slices=10\n",
    "print(\"%\\tCount\\tMin\\tmean\\tstd\")\n",
    "for x in range(1,slices):\n",
    "    percentage=(slices-x)*(100/slices)\n",
    "    data=vendas[:int(-n*(x/slices))]['COD_PRODUTO']\n",
    "    print(str(percentage)+\"%\",data.count(),data.min(),\"%.2f\"%data.mean(),\"%.2f\"%data.std(),sep='\\t')"
   ]
  },
  {
   "cell_type": "code",
   "execution_count": 24,
   "metadata": {},
   "outputs": [
    {
     "data": {
      "text/plain": [
       "0         (25727.0, 25729.0]\n",
       "1         (24851.0, 25189.0]\n",
       "2         (26178.0, 26243.0]\n",
       "3         (26178.0, 26243.0]\n",
       "4         (26572.0, 26727.0]\n",
       "                 ...        \n",
       "321736    (23802.0, 24851.0]\n",
       "321737    (25869.0, 25981.0]\n",
       "321738    (25869.0, 25981.0]\n",
       "321739    (25718.0, 25727.0]\n",
       "321740    (25718.0, 25727.0]\n",
       "Name: COD_PRODUTO, Length: 321741, dtype: category\n",
       "Categories (25, interval[float64]): [(10215.999, 21029.0] < (21029.0, 21653.0] < (21653.0, 21821.0] < (21821.0, 22617.0] ... (26243.0, 26324.0] < (26324.0, 26424.0] < (26424.0, 26572.0] < (26572.0, 26727.0]]"
      ]
     },
     "execution_count": 24,
     "metadata": {},
     "output_type": "execute_result"
    }
   ],
   "source": [
    "for x in range(10):\n",
    "    teste= pd.qcut(df.COD_PRODUTO,25)\n",
    "    break\n",
    "teste"
   ]
  },
  {
   "cell_type": "markdown",
   "metadata": {},
   "source": [
    "Número de clientes = 236244 <br>\n",
    "Número de produtos = 715  <br>\n",
    "Número de compras  = 321741 <br>\n",
    "Número de compras sem repetição = 311741 <br>\n",
    "Número de compradores com mais de uma compra= 57365 <br>"
   ]
  },
  {
   "cell_type": "code",
   "execution_count": 21,
   "metadata": {},
   "outputs": [
    {
     "name": "stdout",
     "output_type": "stream",
     "text": [
      "Int64Index([0, 26, 32, 23, 33, 7], dtype='int64')\n"
     ]
    }
   ],
   "source": [
    "newdf= df[['COD_CLIENTE','COD_PRODUTO']]\n",
    "threshold=5\n",
    "newdf= newdf[newdf['COD_CLIENTE'].map(newdf['COD_CLIENTE'].value_counts())>=threshold ]\n",
    "v=newdf['COD_CLIENTE'].nunique()\n",
    "u=newdf['COD_PRODUTO'].nunique()\n",
    "\n",
    "convert_cliente={}\n",
    "revert_cliente=['' for x in range(v)]\n",
    "c=0\n",
    "for x in newdf['COD_CLIENTE'].unique():\n",
    "    convert_cliente[x]=c\n",
    "    revert_cliente[c]=x\n",
    "    c+=1\n",
    "convert_produto={}\n",
    "revert_produto=['' for x in range(u)]\n",
    "c=0\n",
    "for x in newdf['COD_PRODUTO'].unique():\n",
    "    convert_produto[x]=c\n",
    "    revert_produto[c]=x\n",
    "    c+=1\n",
    "compras_unicas=0\n",
    "lista_adj=[[] for x in range(v)]\n",
    "for i,j in newdf.iterrows():\n",
    "    if(convert_produto[j[1]] not in lista_adj[convert_cliente[j[0]]]):\n",
    "        lista_adj[convert_cliente[j[0]]].append(convert_produto[j[1]])\n",
    "        compras_unicas+=1\n",
    "duplicados=[]\n",
    "for j in range(len(lista_adj)):\n",
    "    if(len(lista_adj[j])<threshold):\n",
    "        duplicados.append(j)\n",
    "for index in sorted(duplicados, reverse=True):\n",
    "    del lista_adj[index]\n",
    "v=len(lista_adj)\n",
    "\n",
    "teste=[x for l in lista_adj for x in l]\n",
    "pd.set_option('display.max_rows', 500)\n",
    "produtos_tratado=pd.DataFrame.from_dict({x:teste.count(x) for x in teste}, orient='index').sort_values(0,ascending=False)\n",
    "#print(produtos_tratado.describe())\n",
    "u=len(set(x for l in lista_adj for x in l))\n",
    "outliers_u=produtos_tratado[produtos_tratado>=200].dropna()\n",
    "u_excluded=outliers_u.count()\n",
    "\n",
    "\n",
    "print(outliers_u.index)\n",
    "for index in sorted(outliers_u.index, reverse=True):\n",
    "    for i in range(len(lista_adj)):\n",
    "        lista_adj[i]=list(filter(lambda a: a not in  outliers_u, lista_adj[i]))\n",
    "        \n",
    "        \n",
    "        \n",
    "outputname=\"Adjacency_list_v>5_u<200.txt\"\n",
    "text_file = open(outputname, \"w\")\n",
    "text_file.write(str(v)+'\\n')\n",
    "text_file.write(str(u)+'\\n')\n",
    "for j in lista_adj:\n",
    "    if(len(j)<threshold):\n",
    "        continue\n",
    "    txt=str(j)[1:-1].replace(',',' ')\n",
    "    text_file.write( txt+'\\n')\n",
    "text_file.close()\n",
    "\n",
    "#p = Popen(['./AMRPB',outputname], shell=True, stdout=PIPE, stdin=PIPE)\n"
   ]
  },
  {
   "cell_type": "code",
   "execution_count": 6,
   "metadata": {},
   "outputs": [
    {
     "name": "stdout",
     "output_type": "stream",
     "text": [
      "(311741, 2)\n",
      "(10226, 2)\n",
      "(8404, 2)\n",
      "                0\n",
      "count  407.000000\n",
      "mean    20.648649\n",
      "std     31.635344\n",
      "min      1.000000\n",
      "25%      2.000000\n",
      "50%      8.000000\n",
      "75%     26.000000\n",
      "max    181.000000\n"
     ]
    }
   ],
   "source": [
    "newdf= df[['COD_CLIENTE','COD_PRODUTO']]\n",
    "threshold_v=5\n",
    "threshold_u=200\n",
    "newdf=newdf.drop_duplicates(keep='first')\n",
    "print(newdf.shape)\n",
    "newdf= newdf[newdf['COD_CLIENTE'].map(newdf['COD_CLIENTE'].value_counts())>=threshold_v ]\n",
    "print(newdf.shape)\n",
    "newdf= newdf[newdf['COD_PRODUTO'].map(newdf['COD_PRODUTO'].value_counts())<=threshold_u ]\n",
    "print(newdf.shape)\n",
    "v=newdf['COD_CLIENTE'].nunique()\n",
    "u=newdf['COD_PRODUTO'].nunique()\n",
    "\n",
    "pd.set_option('display.max_rows', 500)\n",
    "\n",
    "convert_cliente={}\n",
    "revert_cliente=['' for x in range(v)]\n",
    "c=0\n",
    "for x in newdf['COD_CLIENTE'].unique():\n",
    "    convert_cliente[x]=c\n",
    "    revert_cliente[c]=x\n",
    "    c+=1\n",
    "convert_produto={}\n",
    "revert_produto=['' for x in range(u)]\n",
    "c=0\n",
    "for x in newdf['COD_PRODUTO'].unique():\n",
    "    convert_produto[x]=c\n",
    "    revert_produto[c]=x\n",
    "    c+=1\n",
    "lista_adj=[[] for x in range(v)]\n",
    "for i,j in newdf.iterrows():\n",
    "    lista_adj[convert_cliente[j[0]]].append(convert_produto[j[1]])\n",
    "teste=[x for l in lista_adj for x in l]\n",
    "pd.set_option('display.max_rows', 500)\n",
    "produtos_tratado=pd.DataFrame.from_dict({x:teste.count(x) for x in teste}, orient='index').sort_values(0,ascending=False)\n",
    "print(produtos_tratado.describe())\n",
    "outputname=\"Adjacency_list_v>\"+str(threshold_v)+\"_u<\"+str(threshold_u)+\".txt\"\n",
    "text_file = open(outputname, \"w\")\n",
    "text_file.write(str(v)+'\\n')\n",
    "text_file.write(str(u)+'\\n')\n",
    "for j in lista_adj:\n",
    "    txt=str(j)[1:-1].replace(',',' ')\n",
    "    text_file.write( txt+'\\n')\n",
    "text_file.close()\n",
    "\n",
    "#p = Popen(['./AMRPB',outputname], shell=True, stdout=PIPE, stdin=PIPE)\n"
   ]
  },
  {
   "cell_type": "code",
   "execution_count": 90,
   "metadata": {},
   "outputs": [
    {
     "name": "stdout",
     "output_type": "stream",
     "text": [
      "      code cluster\n",
      "0      281       0\n",
      "1      108       1\n",
      "2      127       2\n",
      "3      142       3\n",
      "4       49       3\n",
      "...    ...     ...\n",
      "2329   634     835\n",
      "2330   635     835\n",
      "2331   710     835\n",
      "2332   794     835\n",
      "2333  1645     837\n",
      "\n",
      "[2334 rows x 2 columns]\n"
     ]
    }
   ],
   "source": [
    "f = open(\"saida.txt\", \"r\")\n",
    "nonnumbers=['(',')','}',']']\n",
    "text=f.read().split('[')\n",
    "biclusters=[]\n",
    "v_cluster=pd.DataFrame(columns=['code','cluster'])\n",
    "u_cluster=pd.DataFrame(columns=['code','cluster'])\n",
    "for i,a in enumerate(text[1:]):\n",
    "    bicluster=[]\n",
    "    for j,b in enumerate(a.split('),')):\n",
    "        array=[]\n",
    "        for k,c in enumerate(b.replace('],','').split(',')):\n",
    "            txt=c\n",
    "            for r in nonnumbers:\n",
    "                txt=txt.replace(r, \"\")\n",
    "            if(txt!=''):\n",
    "                code=int(txt)\n",
    "                array.append(code)\n",
    "                new_row = {'code':code, 'cluster':i}\n",
    "                if(j):\n",
    "                    v_cluster=v_cluster.append(new_row,ignore_index=True)\n",
    "                else:\n",
    "                    u_cluster=u_cluster.append(new_row,ignore_index=True)\n",
    "            #print(i,j,k,txt,sep='\\t')\n",
    "        bicluster.append(array)\n",
    "    biclusters.append(bicluster)\n",
    "print(u_cluster)"
   ]
  },
  {
   "cell_type": "code",
   "execution_count": null,
   "metadata": {},
   "outputs": [],
   "source": []
  }
 ],
 "metadata": {
  "kernelspec": {
   "display_name": "Python 3",
   "language": "python",
   "name": "python3"
  },
  "language_info": {
   "codemirror_mode": {
    "name": "ipython",
    "version": 3
   },
   "file_extension": ".py",
   "mimetype": "text/x-python",
   "name": "python",
   "nbconvert_exporter": "python",
   "pygments_lexer": "ipython3",
   "version": "3.6.9"
  }
 },
 "nbformat": 4,
 "nbformat_minor": 2
}
