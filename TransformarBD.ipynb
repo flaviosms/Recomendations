{
 "cells": [
  {
   "cell_type": "code",
   "execution_count": 2,
   "metadata": {},
   "outputs": [],
   "source": [
    "import pandas as pd\n",
    "import numpy as np"
   ]
  },
  {
   "cell_type": "code",
   "execution_count": 4,
   "metadata": {},
   "outputs": [],
   "source": [
    "df = pd.read_excel('dados_vendas.xlsx')"
   ]
  },
  {
   "cell_type": "code",
   "execution_count": 37,
   "metadata": {},
   "outputs": [
    {
     "data": {
      "text/html": [
       "<div>\n",
       "<style scoped>\n",
       "    .dataframe tbody tr th:only-of-type {\n",
       "        vertical-align: middle;\n",
       "    }\n",
       "\n",
       "    .dataframe tbody tr th {\n",
       "        vertical-align: top;\n",
       "    }\n",
       "\n",
       "    .dataframe thead th {\n",
       "        text-align: right;\n",
       "    }\n",
       "</style>\n",
       "<table border=\"1\" class=\"dataframe\">\n",
       "  <thead>\n",
       "    <tr style=\"text-align: right;\">\n",
       "      <th></th>\n",
       "      <th>COD_FILIAL</th>\n",
       "      <th>ORCAMENTO</th>\n",
       "      <th>DATA_COMPRA</th>\n",
       "      <th>HORA</th>\n",
       "      <th>COD_CLIENTE</th>\n",
       "      <th>SEXO</th>\n",
       "      <th>NACIMENTO</th>\n",
       "      <th>IDADE</th>\n",
       "      <th>COD_PRODUTO</th>\n",
       "      <th>NOME_PRODUTO</th>\n",
       "      <th>CLASSIFICACAO</th>\n",
       "      <th>QUANTIDADE</th>\n",
       "      <th>CANAL</th>\n",
       "    </tr>\n",
       "  </thead>\n",
       "  <tbody>\n",
       "    <tr>\n",
       "      <th>0</th>\n",
       "      <td>1</td>\n",
       "      <td>99AWBR</td>\n",
       "      <td>20200515</td>\n",
       "      <td>2020-05-15T17:32:29</td>\n",
       "      <td>05090301</td>\n",
       "      <td>F</td>\n",
       "      <td>28/03/1964</td>\n",
       "      <td>56</td>\n",
       "      <td>25728</td>\n",
       "      <td>SMARTPHONE SAMSUNG GAL J4 CORE 16GB PRETO</td>\n",
       "      <td>CELULAR SMARTPHONE SMARTPHONE                 ...</td>\n",
       "      <td>1</td>\n",
       "      <td>ECOMMERCE</td>\n",
       "    </tr>\n",
       "    <tr>\n",
       "      <th>1</th>\n",
       "      <td>1</td>\n",
       "      <td>99AW74</td>\n",
       "      <td>20200515</td>\n",
       "      <td>2020-05-15T11:14:54</td>\n",
       "      <td>05190001</td>\n",
       "      <td>M</td>\n",
       "      <td>12/11/1985</td>\n",
       "      <td>34</td>\n",
       "      <td>25172</td>\n",
       "      <td>SMARTPHONE LG K9 TV LM-X210BMW PRETO</td>\n",
       "      <td>CELULAR SMARTPHONE SMARTPHONE                 ...</td>\n",
       "      <td>1</td>\n",
       "      <td>VENDAWEB</td>\n",
       "    </tr>\n",
       "    <tr>\n",
       "      <th>2</th>\n",
       "      <td>31</td>\n",
       "      <td>059559</td>\n",
       "      <td>20200515</td>\n",
       "      <td>2020-05-15T12:33:16</td>\n",
       "      <td>99DL9N01</td>\n",
       "      <td>F</td>\n",
       "      <td>21/03/1986</td>\n",
       "      <td>34</td>\n",
       "      <td>26243</td>\n",
       "      <td>SUPORTE UNIV. BEDIN BU-25</td>\n",
       "      <td>TECNOLOGIA TV E VIDEO SUPORTE PARA TV         ...</td>\n",
       "      <td>1</td>\n",
       "      <td>ECOMMERCE</td>\n",
       "    </tr>\n",
       "    <tr>\n",
       "      <th>3</th>\n",
       "      <td>31</td>\n",
       "      <td>059584</td>\n",
       "      <td>20200515</td>\n",
       "      <td>2020-05-15T12:56:28</td>\n",
       "      <td>99DL9N01</td>\n",
       "      <td>F</td>\n",
       "      <td>21/03/1986</td>\n",
       "      <td>34</td>\n",
       "      <td>26243</td>\n",
       "      <td>SUPORTE UNIV. BEDIN BU-25</td>\n",
       "      <td>TECNOLOGIA TV E VIDEO SUPORTE PARA TV         ...</td>\n",
       "      <td>1</td>\n",
       "      <td>ECOMMERCE</td>\n",
       "    </tr>\n",
       "    <tr>\n",
       "      <th>4</th>\n",
       "      <td>1</td>\n",
       "      <td>99AWCA</td>\n",
       "      <td>20200515</td>\n",
       "      <td>2020-05-15T20:45:45</td>\n",
       "      <td>05992701</td>\n",
       "      <td>NaN</td>\n",
       "      <td>28/04/1954</td>\n",
       "      <td>66</td>\n",
       "      <td>26574</td>\n",
       "      <td>SMARTPHONE SAMSUNG GAL A30S 64GB BRANCO</td>\n",
       "      <td>CELULAR SMARTPHONE SMARTPHONE                 ...</td>\n",
       "      <td>1</td>\n",
       "      <td>ECOMMERCE</td>\n",
       "    </tr>\n",
       "  </tbody>\n",
       "</table>\n",
       "</div>"
      ],
      "text/plain": [
       "   COD_FILIAL ORCAMENTO  DATA_COMPRA                 HORA COD_CLIENTE SEXO  \\\n",
       "0           1    99AWBR     20200515  2020-05-15T17:32:29    05090301    F   \n",
       "1           1    99AW74     20200515  2020-05-15T11:14:54    05190001    M   \n",
       "2          31    059559     20200515  2020-05-15T12:33:16    99DL9N01    F   \n",
       "3          31    059584     20200515  2020-05-15T12:56:28    99DL9N01    F   \n",
       "4           1    99AWCA     20200515  2020-05-15T20:45:45    05992701  NaN   \n",
       "\n",
       "    NACIMENTO  IDADE  COD_PRODUTO  \\\n",
       "0  28/03/1964     56        25728   \n",
       "1  12/11/1985     34        25172   \n",
       "2  21/03/1986     34        26243   \n",
       "3  21/03/1986     34        26243   \n",
       "4  28/04/1954     66        26574   \n",
       "\n",
       "                                    NOME_PRODUTO  \\\n",
       "0  SMARTPHONE SAMSUNG GAL J4 CORE 16GB PRETO       \n",
       "1  SMARTPHONE LG K9 TV LM-X210BMW PRETO            \n",
       "2  SUPORTE UNIV. BEDIN BU-25                       \n",
       "3  SUPORTE UNIV. BEDIN BU-25                       \n",
       "4  SMARTPHONE SAMSUNG GAL A30S 64GB BRANCO         \n",
       "\n",
       "                                       CLASSIFICACAO  QUANTIDADE      CANAL  \n",
       "0  CELULAR SMARTPHONE SMARTPHONE                 ...           1  ECOMMERCE  \n",
       "1  CELULAR SMARTPHONE SMARTPHONE                 ...           1   VENDAWEB  \n",
       "2  TECNOLOGIA TV E VIDEO SUPORTE PARA TV         ...           1  ECOMMERCE  \n",
       "3  TECNOLOGIA TV E VIDEO SUPORTE PARA TV         ...           1  ECOMMERCE  \n",
       "4  CELULAR SMARTPHONE SMARTPHONE                 ...           1  ECOMMERCE  "
      ]
     },
     "execution_count": 37,
     "metadata": {},
     "output_type": "execute_result"
    }
   ],
   "source": [
    "df.head()"
   ]
  },
  {
   "cell_type": "code",
   "execution_count": 5,
   "metadata": {},
   "outputs": [
    {
     "data": {
      "text/plain": [
       "26243    14001\n",
       "21653    12909\n",
       "25727    10397\n",
       "25729    10264\n",
       "25726     8090\n",
       "         ...  \n",
       "17196        1\n",
       "19371        1\n",
       "21160        1\n",
       "18920        1\n",
       "21362        1\n",
       "Name: COD_PRODUTO, Length: 715, dtype: int64"
      ]
     },
     "execution_count": 5,
     "metadata": {},
     "output_type": "execute_result"
    }
   ],
   "source": [
    "df.COD_PRODUTO.value_counts()"
   ]
  },
  {
   "cell_type": "code",
   "execution_count": null,
   "metadata": {},
   "outputs": [],
   "source": [
    "compras=df.COD_CLIENTE.value_counts().to_frame()\n",
    "#compras[compras['COD_CLIENTE']>1].describe()\n",
    "#compras.describe()"
   ]
  },
  {
   "cell_type": "code",
   "execution_count": null,
   "metadata": {},
   "outputs": [],
   "source": [
    "n=len(compras)\n",
    "slices=10\n",
    "print(\"%\\tCount\\tMin\\tmean\\tstd\")\n",
    "for x in range(1,slices):\n",
    "    percentage=(slices-x)*(100/slices)\n",
    "    data=compras[:int(-n*(x/slices))]['COD_CLIENTE']\n",
    "    print(str(percentage)+\"%\",data.count(),data.min(),\"%.2f\"%data.mean(),\"%.2f\"%data.std(),sep='\\t')"
   ]
  },
  {
   "cell_type": "code",
   "execution_count": 136,
   "metadata": {
    "scrolled": true
   },
   "outputs": [
    {
     "name": "stdout",
     "output_type": "stream",
     "text": [
      "%\tCount\tMin\tmean\tstd\n",
      "90.0%\t644\t1\t499.49\t1348.54\n",
      "80.0%\t572\t1\t562.23\t1418.66\n",
      "70.0%\t501\t2\t641.70\t1499.13\n",
      "60.0%\t429\t4\t748.98\t1595.36\n",
      "50.0%\t358\t14\t896.09\t1708.87\n",
      "40.0%\t286\t61\t1113.49\t1849.90\n",
      "30.0%\t215\t198\t1442.33\t2029.60\n",
      "20.0%\t143\t509\t2001.41\t2294.39\n",
      "10.0%\t72\t1093\t3236.38\t2716.92\n"
     ]
    }
   ],
   "source": [
    "vendas=df.COD_PRODUTO.value_counts().to_frame()\n",
    "n=len(vendas)\n",
    "slices=10\n",
    "print(\"%\\tCount\\tMin\\tmean\\tstd\")\n",
    "for x in range(1,slices):\n",
    "    percentage=(slices-x)*(100/slices)\n",
    "    data=vendas[:int(-n*(x/slices))]['COD_PRODUTO']\n",
    "    print(str(percentage)+\"%\",data.count(),data.min(),\"%.2f\"%data.mean(),\"%.2f\"%data.std(),sep='\\t')"
   ]
  },
  {
   "cell_type": "code",
   "execution_count": 139,
   "metadata": {},
   "outputs": [
    {
     "name": "stdout",
     "output_type": "stream",
     "text": [
      "       COD_PRODUTO\n",
      "26243        14001\n",
      "21653        12909\n",
      "25727        10397\n",
      "25729        10264\n",
      "25726         8090\n",
      "25981         7633\n",
      "25996         6935\n",
      "25982         6855\n",
      "26222         6160\n",
      "25983         5675\n",
      "25354         5239\n",
      "25728         5142\n",
      "25172         4662\n",
      "25481         4620\n",
      "21647         4318\n",
      "25545         4105\n",
      "25303         4011\n",
      "23802         3912\n",
      "26005         3788\n",
      "26004         3560\n",
      "25676         3429\n",
      "26003         3374\n",
      "21255         3369\n",
      "25173         3106\n",
      "26324         3032\n",
      "19729         3020\n",
      "25355         2994\n",
      "25998         2951\n",
      "25546         2777\n",
      "25997         2752\n",
      "21854         2716\n",
      "26247         2686\n",
      "21256         2598\n",
      "21855         2431\n",
      "24913         2429\n",
      "25870         2420\n",
      "24716         2409\n",
      "25366         2322\n",
      "25933         2198\n",
      "22752         2157\n",
      "25730         2096\n",
      "26423         1957\n",
      "25577         1805\n",
      "26325         1745\n",
      "26007         1705\n",
      "14537         1703\n",
      "20966         1651\n",
      "26387         1615\n",
      "25904         1609\n",
      "25675         1608\n",
      "26008         1592\n",
      "25193         1576\n",
      "26006         1530\n",
      "26386         1450\n",
      "21603         1421\n",
      "26579         1398\n",
      "26548         1385\n",
      "26545         1335\n"
     ]
    }
   ],
   "source": [
    "vendas=df.COD_PRODUTO.value_counts().to_frame()\n",
    "print(vendas[:58])"
   ]
  },
  {
   "cell_type": "code",
   "execution_count": 131,
   "metadata": {},
   "outputs": [
    {
     "name": "stdout",
     "output_type": "stream",
     "text": [
      "IQR:  321.0\n",
      "58  Outliers excluidos\n",
      "%\tCount\tMin\tmean\tstd\n",
      "90.0%\t592\t1\t177.45\t297.60\n",
      "80.0%\t526\t1\t199.59\t308.70\n",
      "70.0%\t460\t2\t228.05\t320.20\n",
      "60.0%\t395\t3\t265.22\t331.12\n",
      "50.0%\t329\t8\t317.51\t339.54\n",
      "40.0%\t263\t33\t393.00\t340.30\n",
      "30.0%\t198\t102\t502.62\t324.06\n",
      "20.0%\t132\t286\t662.33\t281.71\n",
      "10.0%\t66\t607\t896.53\t197.75\n"
     ]
    }
   ],
   "source": [
    "vendas=df.COD_PRODUTO.value_counts().to_frame()\n",
    "first=np.percentile(vendas, 25)  \n",
    "third=np.percentile(vendas, 75)\n",
    "IQR=third-first\n",
    "print(\"IQR: \",IQR)\n",
    "outlier_threshold=3*IQR+third\n",
    "n_antigo=len(vendas)\n",
    "vendas=vendas[vendas['COD_PRODUTO']<outlier_threshold]\n",
    "n=len(vendas)\n",
    "print(n_antigo-n,\" Outliers excluidos\")\n",
    "slices=10\n",
    "print(\"%\\tCount\\tMin\\tmean\\tstd\")\n",
    "for x in range(1,slices):\n",
    "    percentage=(slices-x)*(100/slices)\n",
    "    data=vendas[:int(-n*(x/slices))]['COD_PRODUTO']\n",
    "    print(str(percentage)+\"%\",data.count(),data.min(),\"%.2f\"%data.mean(),\"%.2f\"%data.std(),sep='\\t')"
   ]
  },
  {
   "cell_type": "code",
   "execution_count": 24,
   "metadata": {},
   "outputs": [
    {
     "data": {
      "text/plain": [
       "0         (25727.0, 25729.0]\n",
       "1         (24851.0, 25189.0]\n",
       "2         (26178.0, 26243.0]\n",
       "3         (26178.0, 26243.0]\n",
       "4         (26572.0, 26727.0]\n",
       "                 ...        \n",
       "321736    (23802.0, 24851.0]\n",
       "321737    (25869.0, 25981.0]\n",
       "321738    (25869.0, 25981.0]\n",
       "321739    (25718.0, 25727.0]\n",
       "321740    (25718.0, 25727.0]\n",
       "Name: COD_PRODUTO, Length: 321741, dtype: category\n",
       "Categories (25, interval[float64]): [(10215.999, 21029.0] < (21029.0, 21653.0] < (21653.0, 21821.0] < (21821.0, 22617.0] ... (26243.0, 26324.0] < (26324.0, 26424.0] < (26424.0, 26572.0] < (26572.0, 26727.0]]"
      ]
     },
     "execution_count": 24,
     "metadata": {},
     "output_type": "execute_result"
    }
   ],
   "source": [
    "for x in range(10):\n",
    "    teste= pd.qcut(df.COD_PRODUTO,25)\n",
    "    break\n",
    "teste"
   ]
  },
  {
   "cell_type": "markdown",
   "metadata": {},
   "source": [
    "Número de clientes = 236244 <br>\n",
    "Número de produtos = 715  <br>\n",
    "Número de compras  = 321741 <br>\n",
    "Número de compras sem repetição = 311741 <br>\n",
    "Número de compradores com mais de uma compra= 57365 <br>"
   ]
  },
  {
   "cell_type": "code",
   "execution_count": 6,
   "metadata": {},
   "outputs": [
    {
     "name": "stdout",
     "output_type": "stream",
     "text": [
      "(311741, 2)\n"
     ]
    }
   ],
   "source": [
    "newdf= df[['COD_CLIENTE','COD_PRODUTO']]\n",
    "newdf=newdf.drop_duplicates(keep='first')\n",
    "print(newdf.shape)\n",
    "v=newdf['COD_CLIENTE'].nunique()\n",
    "u=newdf['COD_PRODUTO'].nunique()\n",
    "\n",
    "pd.set_option('display.max_rows', 500)\n",
    "\n",
    "convert_cliente={}\n",
    "revert_cliente=['' for x in range(v)]\n",
    "c=0\n",
    "for x in newdf['COD_CLIENTE'].unique():\n",
    "    convert_cliente[x]=c\n",
    "    revert_cliente[c]=x\n",
    "    c+=1\n",
    "convert_produto={}\n",
    "revert_produto=['' for x in range(u)]\n",
    "c=0\n",
    "for x in newdf['COD_PRODUTO'].unique():\n",
    "    convert_produto[x]=c\n",
    "    revert_produto[c]=x\n",
    "    c+=1\n",
    "lista_adj=[[] for x in range(v)]\n",
    "lista_adj_u=[[] for x in range(u)]\n",
    "for i,j in newdf.iterrows():\n",
    "    lista_adj[convert_cliente[j[0]]].append(convert_produto[j[1]])\n",
    "    lista_adj_u[convert_produto[j[1]]].append(convert_cliente[j[0]])\n",
    "#teste=[x for l in lista_adj for x in l]\n",
    "#pd.set_option('display.max_rows', 500)\n",
    "#produtos_tratado=pd.DataFrame.from_dict({x:teste.count(x) for x in teste}, orient='index').sort_values(0,ascending=False)\n",
    "#print(produtos_tratado.describe())\n",
    "outputname=\"Adjacency_list.txt\"\n",
    "text_file = open(outputname, \"w\")\n",
    "text_file.write(str(v)+'\\n')\n",
    "text_file.write(str(u)+'\\n')\n",
    "for j in lista_adj:\n",
    "    txt=str(j)[1:-1].replace(',',' ')\n",
    "    text_file.write( txt+'\\n')\n",
    "text_file.close()\n",
    "\n",
    "#p = Popen(['./AMRPB',outputname], shell=True, stdout=PIPE, stdin=PIPE)\n"
   ]
  },
  {
   "cell_type": "code",
   "execution_count": null,
   "metadata": {},
   "outputs": [],
   "source": []
  },
  {
   "cell_type": "code",
   "execution_count": 7,
   "metadata": {},
   "outputs": [
    {
     "name": "stdout",
     "output_type": "stream",
     "text": [
      "[[144, 230, 239, 267], [140, 141, 198, 207, 230, 245, 246], [25, 31, 49, 55, 78, 87, 115, 117, 118, 124, 144, 175, 178, 201, 219, 231, 233, 236, 240, 244, 257, 258, 261, 267], [], [146], [224, 245], [], [], [196], [44, 280, 295], [], [137, 199, 230, 240, 248], [], [230], [85, 137, 252, 283], [196], [4, 11, 15, 21, 24, 26, 27, 29, 30, 47, 56, 68, 80, 93, 108, 109, 117, 128, 129, 130, 132, 157, 163, 168, 174, 176, 181, 186, 188, 192, 201, 216, 230, 234, 243, 245, 248, 267, 276, 281, 283], [], [], [25, 175], [0, 63], [230], [], [], [207, 211, 219], [], [141], [], [141], [148], [], [145, 196, 198, 202, 225, 248, 260, 272], [211], [], [], [], [], [], [], [139, 148, 239, 240, 257, 272], [271], [230], [], [], [], [], [74, 139], [207, 225, 230, 250], [230], [], [237], [], [123, 145], [140, 230], [], [18, 182], [201], [], [], [95, 135, 139, 207, 230, 253, 268], [], [33, 195], [207], [110], [], [], [247], [], [], [], [139], [], [111], [276], [], [53], [], [66], [267], [], [], [], [5, 171], [230], [], [207, 257, 262], [245], [], [148, 262], [146], [70], [85], [236], [], [137, 144, 239, 240], [147], [37, 75, 205], [96], [], [], [14, 166], [], [], [138], [], [140, 239, 257], [261, 268], [], [], [12, 161], [149, 240], [262], [71], [239], [149], [43], [210], [], [86], [148], [], [], [], [], [261], [], [], [65], [9, 156], [], [200], [141, 230, 236, 260, 278, 284, 292], [], [277], [277], [104], [], [], [], [], [2, 164], [], [], [], [47], [39, 60], [39, 99], [], [109], [], [], [100], [], [74], [137, 211], [140, 199, 245], [], [121], [], [271], [153], [], [230], [207], [287], [139], [52], [239], [133], [], [196], [], [41], [245, 280], [247, 260], [69], [6, 160], [97], [253], [90], [221], [], [42], [139], [], [17, 170], [211], [1, 196], [], [118], [54], [], [], [122], [224], [], [112], [7, 177], [30, 163], [], [], [137, 293], [268, 287], [61], [250], [], [215], [], [73], [], [], [240], [], [105], [81], [4, 157], [], [], [201], [], [], [], [80], [19, 180], [213], [296], [], [212], [], [215], [27, 186], [29, 188], [], [76], [], [], [26, 192], [147], [144], [299], [146], [11, 181], [], [8, 173], [28, 185], [226], [67], [114], [], [134], [223], [116], [13, 158], [3, 162], [139], [23, 183], [21, 168], [], [], [117], [84], [82], [], [], [108], [200], [184], [24, 174], [169], [272], [91], [64], [137, 203], [148, 239, 248], [200], [95], [217], [233], [], [], [78], [], [120], [208], [79], [], [22, 165], [31, 178], [231], [48], [], [51], [146], [144], [], [169], [140, 230, 276], [276], [113], [258], [149], [136], [], [152], [222], [229], [], [92], [261], [143], [123], [58], [50], [98], [262], [218], [88], [257, 260], [], [131], [77], [16, 155, 172], [126], [125, 203], [], [196, 295], [], [], [59], [87], [237], [238], [239], [39, 154, 191], [20, 167], [240], [216], [], [241], [234], [], [62], [267], [], [55], [101], [244], [242], [45], [274, 284], [], [250], [], [139, 257, 293], [127], [243], [119], [225], [], [128], [89], [], [], [94], [32, 206], [], [], [245], [102], [], [], [295], [107], [], [103], [144], [249], [], [], [148], [38, 46, 189], [38, 46, 189], [215, 230], [10, 159], [], [], [], [], [259], [34, 204], [209], [214], [56], [], [271, 299], [], [83], [236, 265, 299], [], [190], [129], [111], [254], [255], [], [44], [287], [32, 140, 206], [140], [140], [236], [], [256], [], [246], [93], [115], [261], [], [], [219], [], [15, 176], [262], [144, 215, 257, 276], [248], [260], [228], [], [179], [230, 243, 245], [135], [], [263], [], [], [279], [], [], [], [], [211], [], [230, 239, 284], [199], [142], [72], [68], [], [], [], [], [], [281], [], [150], [267], [251], [272], [276], [263], [138], [], [266], [], [269], [], [], [], [], [], [], [], [197], [], [], [257], [273], [288], [], [], [145], [275], [275], [194], [], [], [232], [230], [], [], [], [245], [49], [], [], [34, 204], [236], [], [35, 187], [], [252], [], [227], [], [297], [57], [280], [], [], [220], [], [36, 154], [], [], [], [], [202], [299], [106], [], [], [], [], [235], [284], [], [], [], [], [], [285], [224], [], [], [], [265], [124], [], [286], [132], [], [], [], [290], [], [], [], [], [], [130], [283], [], [268], [], [141], [], [289], [253], [], [], [], [291], [274], [292], [], [147], [], [], [293], [], [197], [], [], [], [], [], [143], [143], [], [264], [], [], [], [], [], [], [247], [], [], [], [278], [38, 40, 193], [], [], [], [300], [197], [], [282], [], [], [270], [], [], [], [], [], [], [], [], [], [], [294], [], [], [277], [], [298], [201], [], [], [], [271], [], [], [], [155], [], [], [], [], [], [], [], [], [], [], [], [], [], [], [], [], [], [], [], [], [151], [], [], [], [], [], [], [198], [], [], [], [], [], [], [], [], [], [], [], [], [], [], [], [], [], [], [], [], [], [], [], [], [], [], [], [], [], [], [], [], [], [], [], [], [], [301], [], [], [303], [], [295], [302], [], [], [], [], [], [], [], [], [], [], [], [], [], [], []]\n"
     ]
    }
   ],
   "source": [
    "f = open(\"saida.txt\", \"r\")\n",
    "nonnumbers=['(',')','}',']']\n",
    "text=f.read().split('}')\n",
    "clustertext=text[0].split('[')\n",
    "solotext=text[1].split('(')\n",
    "#print(len(solotext[2]))\n",
    "biclusters=[]\n",
    "v_cluster=[[] for x in range(v)]\n",
    "u_cluster=[[] for x in range(u)]\n",
    "#Clusters\n",
    "for i,a in enumerate(clustertext[1:]):\n",
    "    bicluster=[]\n",
    "    for j,b in enumerate(a.split('),')):\n",
    "        array=[]\n",
    "        for k,c in enumerate(b.replace('],','').split(',')):\n",
    "            txt=c\n",
    "            for r in nonnumbers:\n",
    "                txt=txt.replace(r, \"\")\n",
    "            if(txt!=''):\n",
    "                code=int(txt)\n",
    "                array.append(code)\n",
    "                if(not j):\n",
    "                    v_cluster[code].append(i)\n",
    "                else:\n",
    "                    u_cluster[code].append(i)\n",
    "        bicluster.append(array)\n",
    "    biclusters.append(bicluster)\n",
    "#Solos\n",
    "#for i,a in enumerate(solotext[1:]):\n",
    "#    for j,b in enumerate(a.split(',')):\n",
    "#        txt=b\n",
    "#        for r in nonnumbers:\n",
    "#            txt=txt.replace(r, \"\")\n",
    "#       if(txt!=''):\n",
    "#           code=int(txt)\n",
    "#            new_row = {'code':code, 'cluster':None }\n",
    "#            if(j):\n",
    "#               v_cluster[code].append()\n",
    "#           else:\n",
    "#                u_cluster[code].append()\n",
    "print(u_cluster)"
   ]
  },
  {
   "cell_type": "code",
   "execution_count": null,
   "metadata": {},
   "outputs": [],
   "source": [
    "print(v_cluster)"
   ]
  },
  {
   "cell_type": "markdown",
   "metadata": {},
   "source": [
    "# Get recomendations"
   ]
  },
  {
   "cell_type": "markdown",
   "metadata": {},
   "source": [
    "### Calcula similaridade"
   ]
  },
  {
   "cell_type": "code",
   "execution_count": 34,
   "metadata": {},
   "outputs": [],
   "source": [
    "def similarity (cod_viewed,cod_recomended,lista_adj_u,cluster_u):\n",
    "    total=len(cluster_u)\n",
    "    partial=len(set(cluster_u) & set(lista_adj_u[cod_recomended]))\n",
    "    #print(total,partial)\n",
    "    #print(set(recomendations) & set(lista_adj_u[cod_recomended]),sep='\\n')\n",
    "    if(partial==0):\n",
    "        return 0\n",
    "    return partial/total\n",
    "        "
   ]
  },
  {
   "cell_type": "code",
   "execution_count": 32,
   "metadata": {},
   "outputs": [],
   "source": [
    "#def similarity (cod_viewed,cod_recomended,lista_adj_u,recomendations):\n",
    "#    total=len(recomendations)\n",
    "#    clusters\n",
    "#    partial=len(set(recomendations) & set(lista_adj_u[cod_recomended]))\n",
    "#    print(total,partial)\n",
    "#    print(set(recomendations) & set(lista_adj_u[cod_recomended]),sep='\\n')\n",
    "#    if(partial==0):\n",
    "#        return 0\n",
    "#    return partial/total\n",
    "        "
   ]
  },
  {
   "cell_type": "markdown",
   "metadata": {},
   "source": [
    "### Cliente"
   ]
  },
  {
   "cell_type": "code",
   "execution_count": 31,
   "metadata": {},
   "outputs": [
    {
     "name": "stdout",
     "output_type": "stream",
     "text": [
      "[323]\n"
     ]
    }
   ],
   "source": [
    "cliente='9NW44N01'\n",
    "try:\n",
    "    recomendations=[]\n",
    "    cliente_key=convert_cliente[cliente]\n",
    "    clusters=v_cluster[cliente_key]\n",
    "    for a in clusters:\n",
    "        for j,b in enumerate(biclusters[a]):\n",
    "            if(j==1):\n",
    "                for x in b:\n",
    "                    recomendations.append(x)\n",
    "    print(recomendations)\n",
    "except KeyError:\n",
    "    print(\"Cliente não encontrado\")\n",
    "except:\n",
    "    print(\"Erro inesperado encontrado, contacte o administrador\")\n"
   ]
  },
  {
   "cell_type": "markdown",
   "metadata": {},
   "source": [
    "### Produto"
   ]
  },
  {
   "cell_type": "code",
   "execution_count": 36,
   "metadata": {},
   "outputs": [
    {
     "name": "stdout",
     "output_type": "stream",
     "text": [
      "[25, 31, 49, 55, 78, 87, 115, 117, 118, 124, 144, 175, 178, 201, 219, 231, 233, 236, 240, 244, 257, 258, 261, 267]\n",
      "[0, 0, 0, 0, 0, 0, 0, 0, 0.3333333333333333, 0, 0, 0, 0.2857142857142857, 0, 0, 0, 0, 0, 0, 0, 0, 0.3333333333333333, 0, 0, 0, 0, 0, 0, 0, 0, 0, 0, 0, 0, 0, 0, 0.125, 0, 0, 0, 0, 0, 0, 0, 0, 0, 0, 0]\n"
     ]
    }
   ],
   "source": [
    "produto=26243\n",
    "#try:\n",
    "recomendations=[]\n",
    "produto_key=convert_produto[produto]\n",
    "clusters=u_cluster[produto_key]\n",
    "scores=[]\n",
    "print(clusters)\n",
    "for a in clusters:\n",
    "    for j,b in enumerate(biclusters[a]):\n",
    "        if(j==1):\n",
    "            for x in b:\n",
    "                if(x not in recomendations and x!= produto_key):\n",
    "                    recomendations.append(x)\n",
    "                    scores.append(similarity(produto_key,x,lista_adj_u,b))\n",
    "#print(recomendations)\n",
    "\n",
    "#print(\"SCORES\")\n",
    "print(scores)\n",
    "#except KeyError:\n",
    "#    print(\"Cliente não encontrado\")\n",
    "#except:\n",
    "#    print(\"Erro inesperado encontrado, contacte o administrador\")\n"
   ]
  },
  {
   "cell_type": "markdown",
   "metadata": {},
   "source": [
    "### Usando vizinhos segundos para clientes"
   ]
  },
  {
   "cell_type": "code",
   "execution_count": 37,
   "metadata": {},
   "outputs": [
    {
     "name": "stdout",
     "output_type": "stream",
     "text": [
      "323\n",
      "272\n",
      "[272]\n"
     ]
    }
   ],
   "source": [
    "cliente='9NW44N01'\n",
    "try:\n",
    "    recomendations=[]\n",
    "    cliente_key=convert_cliente[cliente]\n",
    "    clusters=v_cluster[cliente_key]\n",
    "    for a in clusters:\n",
    "        for j,b in enumerate(biclusters[a]):\n",
    "            if(j==1):\n",
    "                for x in b:\n",
    "                    recomendations.append(x)\n",
    "            else:\n",
    "                for viz in b:\n",
    "                    for clu in v_cluster[viz]:\n",
    "                        for i,el in enumerate(biclusters[clu]):\n",
    "                            if(i==1):\n",
    "                                for pro in el:\n",
    "                                    if(pro not in recomendations):\n",
    "                                        print(pro)\n",
    "                                        recomendations.append(pro)\n",
    "    comprados=[]\n",
    "    compras_cliente=newdf[newdf.COD_CLIENTE==cliente]\n",
    "    for x in compras_cliente.COD_PRODUTO:\n",
    "        comprados.append(convert_produto[x])\n",
    "    recomendations=list(filter(lambda a: a not in comprados, recomendations))\n",
    "    print(recomendations)\n",
    "except KeyError:\n",
    "    print(\"Cliente não encontrado\")\n",
    "except:\n",
    "    print(\"Erro inesperado encontrado, contacte o administrador\")\n"
   ]
  },
  {
   "cell_type": "markdown",
   "metadata": {},
   "source": [
    "### Usando vizinhos segundos para produtos"
   ]
  },
  {
   "cell_type": "code",
   "execution_count": 30,
   "metadata": {},
   "outputs": [
    {
     "name": "stdout",
     "output_type": "stream",
     "text": [
      "323\n",
      "20\n",
      "[16347, 54748, 90256, 323, 3481, 41518, 20]\n"
     ]
    }
   ],
   "source": [
    "produto=26243\n",
    "try:\n",
    "    recomendations=[]\n",
    "    produto_key=convert_produto[produto]\n",
    "    clusters=u_cluster[cliente_key]\n",
    "    for a in clusters:\n",
    "        for j,b in enumerate(biclusters[a]):\n",
    "            if(j==0):\n",
    "                for x in b:\n",
    "                    recomendations.append(x)\n",
    "            else:\n",
    "                for viz in b:\n",
    "                    for clu in v_cluster[viz]:\n",
    "                        for i,el in enumerate(biclusters[clu]):\n",
    "                            if(i==1):\n",
    "                                for pro in el:\n",
    "                                    if(pro not in recomendations):\n",
    "                                        print(pro)\n",
    "                                        recomendations.append(pro)\n",
    "    print(recomendations)\n",
    "except KeyError:\n",
    "    print(\"Cliente não encontrado\")\n",
    "except:\n",
    "    print(\"Erro inesperado encontrado, contacte o administrador\")\n"
   ]
  },
  {
   "cell_type": "code",
   "execution_count": null,
   "metadata": {},
   "outputs": [],
   "source": [
    "import shlex\n",
    "from subprocess import Popen, PIPE\n",
    "def get_exitcode_stdout_stderr(cmd):\n",
    "    \"\"\"\n",
    "    Execute the external command and get its exitcode, stdout and stderr.\n",
    "    \"\"\"\n",
    "    args = shlex.split(cmd)\n",
    "\n",
    "    proc = Popen(args, stdout=PIPE, stderr=PIPE)\n",
    "    out, err = proc.communicate()\n",
    "    exitcode = proc.returncode\n",
    "    #\n",
    "    return exitcode, out, err\n",
    "\n",
    "cmd = './AMRPB Adjacency_list.txt'  # arbitrary external command, e.g. \"python mytest.py\"\n",
    "exitcode, out, err = get_exitcode_stdout_stderr(cmd)"
   ]
  },
  {
   "cell_type": "code",
   "execution_count": 4,
   "metadata": {},
   "outputs": [
    {
     "ename": "NameError",
     "evalue": "name 'v' is not defined",
     "output_type": "error",
     "traceback": [
      "\u001b[0;31m---------------------------------------------------------------------------\u001b[0m",
      "\u001b[0;31mNameError\u001b[0m                                 Traceback (most recent call last)",
      "\u001b[0;32m<ipython-input-4-58d0f1a8f0f3>\u001b[0m in \u001b[0;36m<module>\u001b[0;34m\u001b[0m\n\u001b[1;32m      6\u001b[0m \u001b[0;31m#print(len(solotext[2]))\u001b[0m\u001b[0;34m\u001b[0m\u001b[0;34m\u001b[0m\u001b[0;34m\u001b[0m\u001b[0m\n\u001b[1;32m      7\u001b[0m \u001b[0mbiclusters\u001b[0m\u001b[0;34m=\u001b[0m\u001b[0;34m[\u001b[0m\u001b[0;34m]\u001b[0m\u001b[0;34m\u001b[0m\u001b[0;34m\u001b[0m\u001b[0m\n\u001b[0;32m----> 8\u001b[0;31m \u001b[0mv_cluster\u001b[0m\u001b[0;34m=\u001b[0m\u001b[0;34m[\u001b[0m\u001b[0;34m[\u001b[0m\u001b[0;34m]\u001b[0m \u001b[0;32mfor\u001b[0m \u001b[0mx\u001b[0m \u001b[0;32min\u001b[0m \u001b[0mrange\u001b[0m\u001b[0;34m(\u001b[0m\u001b[0mv\u001b[0m\u001b[0;34m)\u001b[0m\u001b[0;34m]\u001b[0m\u001b[0;34m\u001b[0m\u001b[0;34m\u001b[0m\u001b[0m\n\u001b[0m\u001b[1;32m      9\u001b[0m \u001b[0mu_cluster\u001b[0m\u001b[0;34m=\u001b[0m\u001b[0;34m[\u001b[0m\u001b[0;34m[\u001b[0m\u001b[0;34m]\u001b[0m \u001b[0;32mfor\u001b[0m \u001b[0mx\u001b[0m \u001b[0;32min\u001b[0m \u001b[0mrange\u001b[0m\u001b[0;34m(\u001b[0m\u001b[0mu\u001b[0m\u001b[0;34m)\u001b[0m\u001b[0;34m]\u001b[0m\u001b[0;34m\u001b[0m\u001b[0;34m\u001b[0m\u001b[0m\n\u001b[1;32m     10\u001b[0m \u001b[0;31m#Clusters\u001b[0m\u001b[0;34m\u001b[0m\u001b[0;34m\u001b[0m\u001b[0;34m\u001b[0m\u001b[0m\n",
      "\u001b[0;31mNameError\u001b[0m: name 'v' is not defined"
     ]
    }
   ],
   "source": [
    "f = out.decode(\"utf-8\").split('\\n')[-1]\n",
    "nonnumbers=['(',')','}',']']\n",
    "text=f.split('}')\n",
    "clustertext=text[0].split('[')\n",
    "solotext=text[1].split('(')\n",
    "#print(len(solotext[2]))\n",
    "biclusters=[]\n",
    "v_cluster=[[] for x in range(v)]\n",
    "u_cluster=[[] for x in range(u)]\n",
    "#Clusters\n",
    "for i,a in enumerate(clustertext[1:]):\n",
    "    bicluster=[]\n",
    "    for j,b in enumerate(a.split('),')):\n",
    "        array=[]\n",
    "        for k,c in enumerate(b.replace('],','').split(',')):\n",
    "            txt=c\n",
    "            for r in nonnumbers:\n",
    "                txt=txt.replace(r, \"\")\n",
    "            if(txt!=''):\n",
    "                code=int(txt)\n",
    "                array.append(code)\n",
    "                if(not j):\n",
    "                    v_cluster[code].append(i)\n",
    "                else:\n",
    "                    u_cluster[code].append(i)\n",
    "        bicluster.append(array)\n",
    "    biclusters.append(bicluster)\n",
    "#Solos\n",
    "#for i,a in enumerate(solotext[1:]):\n",
    "#    for j,b in enumerate(a.split(',')):\n",
    "#        txt=b\n",
    "#        for r in nonnumbers:\n",
    "#            txt=txt.replace(r, \"\")\n",
    "#       if(txt!=''):\n",
    "#           code=int(txt)\n",
    "#            new_row = {'code':code, 'cluster':None }\n",
    "#            if(j):\n",
    "#               v_cluster[code].append()\n",
    "#           else:\n",
    "#                u_cluster[code].append()\n",
    "print(u_cluster)"
   ]
  },
  {
   "cell_type": "code",
   "execution_count": null,
   "metadata": {},
   "outputs": [],
   "source": []
  }
 ],
 "metadata": {
  "kernelspec": {
   "display_name": "Python 3",
   "language": "python",
   "name": "python3"
  },
  "language_info": {
   "codemirror_mode": {
    "name": "ipython",
    "version": 3
   },
   "file_extension": ".py",
   "mimetype": "text/x-python",
   "name": "python",
   "nbconvert_exporter": "python",
   "pygments_lexer": "ipython3",
   "version": "3.8.2"
  }
 },
 "nbformat": 4,
 "nbformat_minor": 4
}
