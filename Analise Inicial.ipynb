{
 "cells": [
  {
   "cell_type": "markdown",
   "metadata": {
    "id": "rLX_ggh2cuad"
   },
   "source": [
    "# **Importando Bibliotecas e Carregando dados no dataframe**"
   ]
  },
  {
   "cell_type": "code",
   "execution_count": 1,
   "metadata": {
    "id": "WFGP3udfh1mN"
   },
   "outputs": [],
   "source": [
    "#importando bibliotecas\n",
    "import pandas as pd\n",
    "import numpy as np"
   ]
  },
  {
   "cell_type": "code",
   "execution_count": 2,
   "metadata": {
    "id": "UcGwEk3Rh1mh"
   },
   "outputs": [],
   "source": [
    "#salvando dados no dataframe\n",
    "df = pd.read_excel('dados_vendas.xlsx')"
   ]
  },
  {
   "cell_type": "code",
   "execution_count": 3,
   "metadata": {
    "id": "jUpCGQEih1m8",
    "outputId": "e63a97b8-0e0a-40a5-b680-43ad3bbb2c99"
   },
   "outputs": [
    {
     "data": {
      "text/html": [
       "<div>\n",
       "<style scoped>\n",
       "    .dataframe tbody tr th:only-of-type {\n",
       "        vertical-align: middle;\n",
       "    }\n",
       "\n",
       "    .dataframe tbody tr th {\n",
       "        vertical-align: top;\n",
       "    }\n",
       "\n",
       "    .dataframe thead th {\n",
       "        text-align: right;\n",
       "    }\n",
       "</style>\n",
       "<table border=\"1\" class=\"dataframe\">\n",
       "  <thead>\n",
       "    <tr style=\"text-align: right;\">\n",
       "      <th></th>\n",
       "      <th>COD_FILIAL</th>\n",
       "      <th>ORCAMENTO</th>\n",
       "      <th>DATA_COMPRA</th>\n",
       "      <th>HORA</th>\n",
       "      <th>COD_CLIENTE</th>\n",
       "      <th>SEXO</th>\n",
       "      <th>NACIMENTO</th>\n",
       "      <th>IDADE</th>\n",
       "      <th>COD_PRODUTO</th>\n",
       "      <th>NOME_PRODUTO</th>\n",
       "      <th>CLASSIFICACAO</th>\n",
       "      <th>QUANTIDADE</th>\n",
       "      <th>CANAL</th>\n",
       "    </tr>\n",
       "  </thead>\n",
       "  <tbody>\n",
       "    <tr>\n",
       "      <th>0</th>\n",
       "      <td>1</td>\n",
       "      <td>99AWBR</td>\n",
       "      <td>20200515</td>\n",
       "      <td>2020-05-15T17:32:29</td>\n",
       "      <td>05090301</td>\n",
       "      <td>F</td>\n",
       "      <td>28/03/1964</td>\n",
       "      <td>56</td>\n",
       "      <td>25728</td>\n",
       "      <td>SMARTPHONE SAMSUNG GAL J4 CORE 16GB PRETO</td>\n",
       "      <td>CELULAR SMARTPHONE SMARTPHONE                 ...</td>\n",
       "      <td>1</td>\n",
       "      <td>ECOMMERCE</td>\n",
       "    </tr>\n",
       "    <tr>\n",
       "      <th>1</th>\n",
       "      <td>1</td>\n",
       "      <td>99AW74</td>\n",
       "      <td>20200515</td>\n",
       "      <td>2020-05-15T11:14:54</td>\n",
       "      <td>05190001</td>\n",
       "      <td>M</td>\n",
       "      <td>12/11/1985</td>\n",
       "      <td>34</td>\n",
       "      <td>25172</td>\n",
       "      <td>SMARTPHONE LG K9 TV LM-X210BMW PRETO</td>\n",
       "      <td>CELULAR SMARTPHONE SMARTPHONE                 ...</td>\n",
       "      <td>1</td>\n",
       "      <td>VENDAWEB</td>\n",
       "    </tr>\n",
       "    <tr>\n",
       "      <th>2</th>\n",
       "      <td>31</td>\n",
       "      <td>059559</td>\n",
       "      <td>20200515</td>\n",
       "      <td>2020-05-15T12:33:16</td>\n",
       "      <td>99DL9N01</td>\n",
       "      <td>F</td>\n",
       "      <td>21/03/1986</td>\n",
       "      <td>34</td>\n",
       "      <td>26243</td>\n",
       "      <td>SUPORTE UNIV. BEDIN BU-25</td>\n",
       "      <td>TECNOLOGIA TV E VIDEO SUPORTE PARA TV         ...</td>\n",
       "      <td>1</td>\n",
       "      <td>ECOMMERCE</td>\n",
       "    </tr>\n",
       "    <tr>\n",
       "      <th>3</th>\n",
       "      <td>31</td>\n",
       "      <td>059584</td>\n",
       "      <td>20200515</td>\n",
       "      <td>2020-05-15T12:56:28</td>\n",
       "      <td>99DL9N01</td>\n",
       "      <td>F</td>\n",
       "      <td>21/03/1986</td>\n",
       "      <td>34</td>\n",
       "      <td>26243</td>\n",
       "      <td>SUPORTE UNIV. BEDIN BU-25</td>\n",
       "      <td>TECNOLOGIA TV E VIDEO SUPORTE PARA TV         ...</td>\n",
       "      <td>1</td>\n",
       "      <td>ECOMMERCE</td>\n",
       "    </tr>\n",
       "    <tr>\n",
       "      <th>4</th>\n",
       "      <td>1</td>\n",
       "      <td>99AWCA</td>\n",
       "      <td>20200515</td>\n",
       "      <td>2020-05-15T20:45:45</td>\n",
       "      <td>05992701</td>\n",
       "      <td>NaN</td>\n",
       "      <td>28/04/1954</td>\n",
       "      <td>66</td>\n",
       "      <td>26574</td>\n",
       "      <td>SMARTPHONE SAMSUNG GAL A30S 64GB BRANCO</td>\n",
       "      <td>CELULAR SMARTPHONE SMARTPHONE                 ...</td>\n",
       "      <td>1</td>\n",
       "      <td>ECOMMERCE</td>\n",
       "    </tr>\n",
       "  </tbody>\n",
       "</table>\n",
       "</div>"
      ],
      "text/plain": [
       "   COD_FILIAL ORCAMENTO  DATA_COMPRA                 HORA COD_CLIENTE SEXO  \\\n",
       "0           1    99AWBR     20200515  2020-05-15T17:32:29    05090301    F   \n",
       "1           1    99AW74     20200515  2020-05-15T11:14:54    05190001    M   \n",
       "2          31    059559     20200515  2020-05-15T12:33:16    99DL9N01    F   \n",
       "3          31    059584     20200515  2020-05-15T12:56:28    99DL9N01    F   \n",
       "4           1    99AWCA     20200515  2020-05-15T20:45:45    05992701  NaN   \n",
       "\n",
       "    NACIMENTO  IDADE  COD_PRODUTO  \\\n",
       "0  28/03/1964     56        25728   \n",
       "1  12/11/1985     34        25172   \n",
       "2  21/03/1986     34        26243   \n",
       "3  21/03/1986     34        26243   \n",
       "4  28/04/1954     66        26574   \n",
       "\n",
       "                                    NOME_PRODUTO  \\\n",
       "0  SMARTPHONE SAMSUNG GAL J4 CORE 16GB PRETO       \n",
       "1  SMARTPHONE LG K9 TV LM-X210BMW PRETO            \n",
       "2  SUPORTE UNIV. BEDIN BU-25                       \n",
       "3  SUPORTE UNIV. BEDIN BU-25                       \n",
       "4  SMARTPHONE SAMSUNG GAL A30S 64GB BRANCO         \n",
       "\n",
       "                                       CLASSIFICACAO  QUANTIDADE      CANAL  \n",
       "0  CELULAR SMARTPHONE SMARTPHONE                 ...           1  ECOMMERCE  \n",
       "1  CELULAR SMARTPHONE SMARTPHONE                 ...           1   VENDAWEB  \n",
       "2  TECNOLOGIA TV E VIDEO SUPORTE PARA TV         ...           1  ECOMMERCE  \n",
       "3  TECNOLOGIA TV E VIDEO SUPORTE PARA TV         ...           1  ECOMMERCE  \n",
       "4  CELULAR SMARTPHONE SMARTPHONE                 ...           1  ECOMMERCE  "
      ]
     },
     "execution_count": 3,
     "metadata": {},
     "output_type": "execute_result"
    }
   ],
   "source": [
    "#Exibindo dados\n",
    "df.head()"
   ]
  },
  {
   "cell_type": "markdown",
   "metadata": {
    "id": "xwsj7ncpdDPL"
   },
   "source": [
    "# **Estatística Descritiva: Análise de Distribuição dos dados**"
   ]
  },
  {
   "cell_type": "code",
   "execution_count": 4,
   "metadata": {
    "id": "c61npiDdh1nT",
    "outputId": "a9643a48-d08e-4c00-c404-243d308ee54c"
   },
   "outputs": [
    {
     "data": {
      "text/plain": [
       "26243    14001\n",
       "21653    12909\n",
       "25727    10397\n",
       "25729    10264\n",
       "25726     8090\n",
       "         ...  \n",
       "17196        1\n",
       "19371        1\n",
       "21160        1\n",
       "18920        1\n",
       "21362        1\n",
       "Name: COD_PRODUTO, Length: 715, dtype: int64"
      ]
     },
     "execution_count": 4,
     "metadata": {},
     "output_type": "execute_result"
    }
   ],
   "source": [
    "#contagem de registros por código na coluna COD_PRODUTO\n",
    "df.COD_PRODUTO.value_counts()"
   ]
  },
  {
   "cell_type": "code",
   "execution_count": 5,
   "metadata": {
    "id": "e1MbzjiOh1nx"
   },
   "outputs": [],
   "source": [
    "#salvando quantidades de produtos por código de cliente o dataframe compras\n",
    "compras=df.COD_CLIENTE.value_counts().to_frame()\n",
    "#compras[compras['COD_CLIENTE']>1].describe()\n",
    "#compras.describe()"
   ]
  },
  {
   "cell_type": "code",
   "execution_count": 6,
   "metadata": {
    "id": "s3DnigmMh1n0"
   },
   "outputs": [
    {
     "name": "stdout",
     "output_type": "stream",
     "text": [
      "%\tCount\tMin\tmean\tstd\n",
      "90.0%\t212620\t1\t1.40\t0.94\n",
      "80.0%\t188996\t1\t1.45\t0.99\n",
      "70.0%\t165371\t1\t1.52\t1.04\n",
      "60.0%\t141747\t1\t1.60\t1.10\n",
      "50.0%\t118122\t1\t1.72\t1.17\n",
      "40.0%\t94498\t1\t1.90\t1.24\n",
      "30.0%\t70874\t1\t2.21\t1.30\n",
      "20.0%\t47249\t2\t2.60\t1.40\n",
      "10.0%\t23625\t2\t3.19\t1.80\n"
     ]
    }
   ],
   "source": [
    "#Distribuição dos valores de compras por cliente e Analise de dispersão\n",
    "n=len(compras)\n",
    "slices=10\n",
    "print(\"%\\tCount\\tMin\\tmean\\tstd\")\n",
    "for x in range(1,slices):\n",
    "    percentage=(slices-x)*(100/slices)\n",
    "    data=compras[:int(-n*(x/slices))]['COD_CLIENTE']\n",
    "    print(str(percentage)+\"%\",data.count(),data.min(),\"%.2f\"%data.mean(),\"%.2f\"%data.std(),sep='\\t')"
   ]
  },
  {
   "cell_type": "code",
   "execution_count": 7,
   "metadata": {
    "id": "0GUj_Wzbh1oF",
    "outputId": "28700cd2-ebe5-47ed-cd27-9dbb3f8c896f",
    "scrolled": true
   },
   "outputs": [
    {
     "name": "stdout",
     "output_type": "stream",
     "text": [
      "%\tCount\tMin\tmean\tstd\n",
      "90.0%\t644\t1\t499.49\t1348.54\n",
      "80.0%\t572\t1\t562.23\t1418.66\n",
      "70.0%\t501\t2\t641.70\t1499.13\n",
      "60.0%\t429\t4\t748.98\t1595.36\n",
      "50.0%\t358\t14\t896.09\t1708.87\n",
      "40.0%\t286\t61\t1113.49\t1849.90\n",
      "30.0%\t215\t198\t1442.33\t2029.60\n",
      "20.0%\t143\t509\t2001.41\t2294.39\n",
      "10.0%\t72\t1093\t3236.38\t2716.92\n"
     ]
    }
   ],
   "source": [
    "#Distribuição dos valores de vendas por produto e Analise de dispersão\n",
    "vendas=df.COD_PRODUTO.value_counts().to_frame()\n",
    "n=len(vendas)\n",
    "slices=10\n",
    "print(\"%\\tCount\\tMin\\tmean\\tstd\")\n",
    "for x in range(1,slices):\n",
    "    percentage=(slices-x)*(100/slices)\n",
    "    data=vendas[:int(-n*(x/slices))]['COD_PRODUTO']\n",
    "    print(str(percentage)+\"%\",data.count(),data.min(),\"%.2f\"%data.mean(),\"%.2f\"%data.std(),sep='\\t')"
   ]
  },
  {
   "cell_type": "code",
   "execution_count": 8,
   "metadata": {
    "id": "QdoXySboh1oS",
    "outputId": "40be23ba-13d9-46f2-f974-dd5b05b14a09"
   },
   "outputs": [
    {
     "name": "stdout",
     "output_type": "stream",
     "text": [
      "       COD_PRODUTO\n",
      "26243        14001\n",
      "21653        12909\n",
      "25727        10397\n",
      "25729        10264\n",
      "25726         8090\n",
      "25981         7633\n",
      "25996         6935\n",
      "25982         6855\n",
      "26222         6160\n",
      "25983         5675\n",
      "25354         5239\n",
      "25728         5142\n",
      "25172         4662\n",
      "25481         4620\n",
      "21647         4318\n",
      "25545         4105\n",
      "25303         4011\n",
      "23802         3912\n",
      "26005         3788\n",
      "26004         3560\n",
      "25676         3429\n",
      "26003         3374\n",
      "21255         3369\n",
      "25173         3106\n",
      "26324         3032\n",
      "19729         3020\n",
      "25355         2994\n",
      "25998         2951\n",
      "25546         2777\n",
      "25997         2752\n",
      "21854         2716\n",
      "26247         2686\n",
      "21256         2598\n",
      "21855         2431\n",
      "24913         2429\n",
      "25870         2420\n",
      "24716         2409\n",
      "25366         2322\n",
      "25933         2198\n",
      "22752         2157\n",
      "25730         2096\n",
      "26423         1957\n",
      "25577         1805\n",
      "26325         1745\n",
      "26007         1705\n",
      "14537         1703\n",
      "20966         1651\n",
      "26387         1615\n",
      "25904         1609\n",
      "25675         1608\n",
      "26008         1592\n",
      "25193         1576\n",
      "26006         1530\n",
      "26386         1450\n",
      "21603         1421\n",
      "26579         1398\n",
      "26548         1385\n",
      "26545         1335\n"
     ]
    }
   ],
   "source": [
    "vendas=df.COD_PRODUTO.value_counts().to_frame()\n",
    "print(vendas[:58])"
   ]
  },
  {
   "cell_type": "code",
   "execution_count": 9,
   "metadata": {
    "id": "x8nvpKT6h1oi",
    "outputId": "2b06dd5e-7529-47cb-db03-27acebf18b6b"
   },
   "outputs": [
    {
     "name": "stdout",
     "output_type": "stream",
     "text": [
      "IQR:  321.0\n",
      "58  Outliers excluidos\n",
      "%\tCount\tMin\tmean\tstd\n",
      "99.07407407407408%\t651\t1\t161.46\t288.27\n",
      "98.14814814814815%\t645\t1\t162.95\t289.19\n",
      "97.22222222222223%\t639\t1\t164.47\t290.12\n",
      "96.29629629629629%\t633\t1\t166.02\t291.05\n",
      "95.37037037037037%\t627\t1\t167.60\t291.99\n",
      "94.44444444444444%\t621\t1\t169.21\t292.94\n",
      "93.51851851851852%\t615\t1\t170.85\t293.89\n",
      "92.5925925925926%\t609\t1\t172.52\t294.85\n",
      "91.66666666666667%\t603\t1\t174.23\t295.82\n",
      "90.74074074074075%\t597\t1\t175.97\t296.79\n",
      "89.81481481481481%\t591\t1\t177.75\t297.77\n",
      "88.88888888888889%\t584\t1\t179.86\t298.91\n",
      "87.96296296296296%\t578\t1\t181.72\t299.90\n",
      "87.03703703703704%\t572\t1\t183.62\t300.90\n",
      "86.11111111111111%\t566\t1\t185.55\t301.90\n",
      "85.18518518518519%\t560\t1\t187.53\t302.91\n",
      "84.25925925925927%\t554\t1\t189.55\t303.92\n",
      "83.33333333333333%\t548\t1\t191.61\t304.94\n",
      "82.4074074074074%\t542\t1\t193.73\t305.96\n",
      "81.48148148148148%\t536\t1\t195.88\t306.98\n",
      "80.55555555555556%\t530\t1\t198.09\t308.01\n",
      "79.62962962962963%\t524\t1\t200.35\t309.05\n",
      "78.70370370370371%\t518\t1\t202.65\t310.08\n",
      "77.77777777777777%\t511\t1\t205.42\t311.30\n",
      "76.85185185185185%\t505\t1\t207.85\t312.34\n",
      "75.92592592592592%\t499\t1\t210.33\t313.38\n",
      "75.0%\t493\t1\t212.88\t314.43\n",
      "74.07407407407408%\t487\t1\t215.49\t315.48\n",
      "73.14814814814815%\t481\t1\t218.17\t316.52\n",
      "72.22222222222223%\t475\t2\t220.91\t317.57\n",
      "71.29629629629629%\t469\t2\t223.71\t318.63\n",
      "70.37037037037037%\t463\t2\t226.58\t319.68\n",
      "69.44444444444444%\t457\t2\t229.53\t320.73\n",
      "68.51851851851852%\t451\t2\t232.56\t321.77\n",
      "67.5925925925926%\t445\t2\t235.67\t322.81\n",
      "66.66666666666667%\t438\t2\t239.40\t324.02\n",
      "65.74074074074075%\t432\t2\t242.70\t325.05\n",
      "64.81481481481481%\t426\t2\t246.09\t326.07\n",
      "63.888888888888886%\t420\t2\t249.57\t327.07\n",
      "62.96296296296296%\t414\t2\t253.16\t328.06\n",
      "62.03703703703704%\t408\t2\t256.86\t329.04\n",
      "61.111111111111114%\t402\t3\t260.66\t330.01\n",
      "60.18518518518518%\t396\t3\t264.56\t330.96\n",
      "59.25925925925926%\t390\t3\t268.58\t331.89\n",
      "58.333333333333336%\t384\t3\t272.73\t332.80\n",
      "57.407407407407405%\t378\t3\t277.02\t333.68\n",
      "56.48148148148148%\t372\t4\t281.43\t334.54\n",
      "55.55555555555556%\t365\t4\t286.75\t335.50\n",
      "54.62962962962963%\t359\t4\t291.47\t336.28\n",
      "53.7037037037037%\t353\t5\t296.35\t337.02\n",
      "52.77777777777778%\t347\t6\t301.38\t337.73\n",
      "51.851851851851855%\t341\t6\t306.58\t338.39\n",
      "50.925925925925924%\t335\t7\t311.95\t338.99\n",
      "50.0%\t329\t8\t317.51\t339.54\n",
      "49.074074074074076%\t323\t8\t323.26\t340.02\n",
      "48.148148148148145%\t317\t9\t329.21\t340.44\n",
      "47.22222222222222%\t311\t11\t335.38\t340.77\n",
      "46.2962962962963%\t305\t12\t341.76\t341.03\n",
      "45.370370370370374%\t299\t14\t348.35\t341.21\n",
      "44.44444444444444%\t292\t17\t356.33\t341.32\n",
      "43.51851851851852%\t286\t18\t363.43\t341.30\n",
      "42.592592592592595%\t280\t22\t370.79\t341.18\n",
      "41.666666666666664%\t274\t27\t378.39\t340.97\n",
      "40.74074074074074%\t268\t29\t386.24\t340.66\n",
      "39.81481481481482%\t262\t33\t394.37\t340.22\n",
      "38.888888888888886%\t256\t37\t402.81\t339.63\n",
      "37.96296296296296%\t250\t40\t411.57\t338.88\n",
      "37.03703703703704%\t244\t45\t420.66\t337.96\n",
      "36.111111111111114%\t238\t50\t430.08\t336.88\n",
      "35.18518518518518%\t232\t55\t439.89\t335.56\n",
      "34.25925925925926%\t226\t62\t450.04\t334.08\n",
      "33.333333333333336%\t219\t69\t462.36\t332.06\n",
      "32.407407407407405%\t213\t77\t473.37\t330.06\n",
      "31.48148148148148%\t207\t83\t484.79\t327.81\n",
      "30.555555555555557%\t201\t98\t496.61\t325.33\n",
      "29.62962962962963%\t195\t108\t508.75\t322.72\n",
      "28.703703703703702%\t189\t115\t521.42\t319.73\n",
      "27.77777777777778%\t183\t141\t534.42\t316.61\n",
      "26.85185185185185%\t177\t147\t547.69\t313.46\n",
      "25.925925925925927%\t171\t161\t561.44\t310.02\n",
      "25.0%\t165\t177\t575.72\t306.24\n",
      "24.074074074074073%\t159\t195\t590.35\t302.35\n",
      "23.14814814814815%\t153\t212\t605.61\t298.02\n",
      "22.22222222222222%\t146\t239\t623.82\t292.92\n",
      "21.296296296296298%\t140\t256\t640.08\t288.14\n",
      "20.37037037037037%\t134\t282\t656.67\t283.36\n",
      "19.444444444444443%\t128\t296\t673.98\t278.10\n",
      "18.51851851851852%\t122\t320\t692.12\t272.21\n",
      "17.59259259259259%\t116\t342\t710.98\t265.83\n",
      "16.666666666666668%\t110\t369\t730.77\t258.68\n",
      "15.74074074074074%\t104\t385\t751.17\t251.21\n",
      "14.814814814814815%\t98\t415\t772.47\t243.03\n",
      "13.88888888888889%\t92\t472\t793.99\t235.15\n",
      "12.962962962962964%\t86\t508\t814.91\t228.91\n",
      "12.037037037037036%\t80\t519\t837.60\t221.15\n",
      "11.11111111111111%\t73\t567\t866.68\t209.39\n",
      "10.185185185185185%\t67\t604\t892.16\t199.48\n",
      "9.25925925925926%\t61\t642\t919.41\t187.98\n",
      "8.333333333333334%\t55\t675\t949.02\t173.73\n",
      "7.407407407407407%\t49\t701\t981.22\t155.69\n",
      "6.481481481481482%\t43\t810\t1015.02\t133.98\n",
      "5.555555555555555%\t37\t852\t1046.59\t116.54\n",
      "4.62962962962963%\t31\t920\t1079.74\t96.20\n",
      "3.7037037037037037%\t25\t992\t1110.00\t81.00\n",
      "2.7777777777777777%\t19\t1060\t1143.89\t60.55\n",
      "1.8518518518518519%\t13\t1118\t1176.85\t41.48\n",
      "0.9259259259259259%\t7\t1180\t1207.43\t26.71\n"
     ]
    }
   ],
   "source": [
    "vendas=df.COD_PRODUTO.value_counts().to_frame()\n",
    "first=np.percentile(vendas, 25)  \n",
    "third=np.percentile(vendas, 75)\n",
    "#Intervalo interquartis\n",
    "IQR=third-first\n",
    "print(\"IQR: \",IQR)\n",
    "#limpeza de outliers\n",
    "outlier_threshold=3*IQR+third\n",
    "n_antigo=len(vendas)\n",
    "vendas=vendas[vendas['COD_PRODUTO']<outlier_threshold]\n",
    "n=len(vendas)\n",
    "print(n_antigo-n,\" Outliers excluidos\")\n",
    "slices=108\n",
    "#Estatítica descritiva após filtro de outliers\n",
    "print(\"%\\tCount\\tMin\\tmean\\tstd\")\n",
    "for x in range(1,slices):\n",
    "    percentage=(slices-x)*(100/slices)\n",
    "    data=vendas[:int(-n*(x/slices))]['COD_PRODUTO']\n",
    "    print(str(percentage)+\"%\",data.count(),data.min(),\"%.2f\"%data.mean(),\"%.2f\"%data.std(),sep='\\t')"
   ]
  },
  {
   "cell_type": "code",
   "execution_count": 10,
   "metadata": {
    "id": "3UmwfsgUh1pU",
    "outputId": "472d16fd-7d34-412e-d77d-bcfc276f10f4"
   },
   "outputs": [
    {
     "data": {
      "text/plain": [
       "0         (25727.0, 25729.0]\n",
       "1         (24851.0, 25189.0]\n",
       "2         (26178.0, 26243.0]\n",
       "3         (26178.0, 26243.0]\n",
       "4         (26572.0, 26727.0]\n",
       "                 ...        \n",
       "321736    (23802.0, 24851.0]\n",
       "321737    (25869.0, 25981.0]\n",
       "321738    (25869.0, 25981.0]\n",
       "321739    (25718.0, 25727.0]\n",
       "321740    (25718.0, 25727.0]\n",
       "Name: COD_PRODUTO, Length: 321741, dtype: category\n",
       "Categories (25, interval[float64]): [(10215.999, 21029.0] < (21029.0, 21653.0] < (21653.0, 21821.0] < (21821.0, 22617.0] ... (26243.0, 26324.0] < (26324.0, 26424.0] < (26424.0, 26572.0] < (26572.0, 26727.0]]"
      ]
     },
     "execution_count": 10,
     "metadata": {},
     "output_type": "execute_result"
    }
   ],
   "source": [
    "#Discretização da coluna COD_PRODUTO em 25 intervalos com quantidade de dados baseado na distribuição de quartis\n",
    "for x in range(10):\n",
    "    teste= pd.qcut(df.COD_PRODUTO,25)\n",
    "    break\n",
    "teste"
   ]
  },
  {
   "cell_type": "markdown",
   "metadata": {
    "id": "zW4fS0_mh1pY"
   },
   "source": [
    "Número de clientes = 236244 <br>\n",
    "Número de produtos = 715  <br>\n",
    "Número de compras  = 321741 <br>\n",
    "Número de compras sem repetição = 311741 <br>\n",
    "Número de compradores com mais de uma compra= 57365 <br>"
   ]
  },
  {
   "cell_type": "markdown",
   "metadata": {
    "id": "mJl9ue9wduga"
   },
   "source": [
    "# **Preparando Dados para análise de Clusterização**"
   ]
  },
  {
   "cell_type": "code",
   "execution_count": 11,
   "metadata": {
    "id": "W3lSvOWAh1pZ",
    "outputId": "fa41502f-631e-4e77-bef3-a7538a0f89f6"
   },
   "outputs": [
    {
     "name": "stdout",
     "output_type": "stream",
     "text": [
      "(311741, 2)\n"
     ]
    }
   ],
   "source": [
    "#Criando novo dataframe com as colunas COD_CLIENTE e COD_PRODUTO\n",
    "newdf= df[['COD_CLIENTE','COD_PRODUTO']]\n",
    "#Limpando dados duplicados\n",
    "newdf=newdf.drop_duplicates(keep='first')\n",
    "print(newdf.shape)\n",
    "v=newdf['COD_CLIENTE'].nunique()\n",
    "u=newdf['COD_PRODUTO'].nunique()\n",
    "\n",
    "pd.set_option('display.max_rows', 500)\n",
    "\n",
    "convert_cliente={}\n",
    "revert_cliente=['' for x in range(v)]\n",
    "c=0\n",
    "for x in newdf['COD_CLIENTE'].unique():\n",
    "    convert_cliente[x]=c\n",
    "    revert_cliente[c]=x\n",
    "    c+=1\n",
    "convert_produto={}\n",
    "revert_produto=['' for x in range(u)]\n",
    "c=0\n",
    "for x in newdf['COD_PRODUTO'].unique():\n",
    "    convert_produto[x]=c\n",
    "    revert_produto[c]=x\n",
    "    c+=1\n",
    "lista_adj=[[] for x in range(v)]\n",
    "lista_adj_u=[[] for x in range(u)]\n",
    "for i,j in newdf.iterrows():\n",
    "    lista_adj[convert_cliente[j[0]]].append(convert_produto[j[1]])\n",
    "    lista_adj_u[convert_produto[j[1]]].append(convert_cliente[j[0]])\n",
    "#teste=[x for l in lista_adj for x in l]\n",
    "#pd.set_option('display.max_rows', 500)\n",
    "#produtos_tratado=pd.DataFrame.from_dict({x:teste.count(x) for x in teste}, orient='index').sort_values(0,ascending=False)\n",
    "#print(produtos_tratado.describe())\n",
    "outputname=\"Adjacency_list.txt\"\n",
    "text_file = open(outputname, \"w\")\n",
    "text_file.write(str(v)+'\\n')\n",
    "text_file.write(str(u)+'\\n')\n",
    "for j in lista_adj:\n",
    "    txt=str(j)[1:-1].replace(',',' ')\n",
    "    text_file.write( txt+'\\n')\n",
    "text_file.close()\n",
    "\n",
    "#p = Popen(['./AMRPB',outputname], shell=True, stdout=PIPE, stdin=PIPE)\n"
   ]
  },
  {
   "cell_type": "code",
   "execution_count": 12,
   "metadata": {
    "id": "cutH_suGh1pi",
    "outputId": "ab61e0a7-16ee-45be-f410-98cf602dd0be"
   },
   "outputs": [
    {
     "ename": "FileNotFoundError",
     "evalue": "[Errno 2] No such file or directory: 'saida.txt'",
     "output_type": "error",
     "traceback": [
      "\u001b[0;31m---------------------------------------------------------------------------\u001b[0m",
      "\u001b[0;31mFileNotFoundError\u001b[0m                         Traceback (most recent call last)",
      "\u001b[0;32m<ipython-input-12-a9536b2dcc86>\u001b[0m in \u001b[0;36m<module>\u001b[0;34m\u001b[0m\n\u001b[0;32m----> 1\u001b[0;31m \u001b[0mf\u001b[0m \u001b[0;34m=\u001b[0m \u001b[0mopen\u001b[0m\u001b[0;34m(\u001b[0m\u001b[0;34m\"saida.txt\"\u001b[0m\u001b[0;34m,\u001b[0m \u001b[0;34m\"r\"\u001b[0m\u001b[0;34m)\u001b[0m\u001b[0;34m\u001b[0m\u001b[0;34m\u001b[0m\u001b[0m\n\u001b[0m\u001b[1;32m      2\u001b[0m \u001b[0mnonnumbers\u001b[0m\u001b[0;34m=\u001b[0m\u001b[0;34m[\u001b[0m\u001b[0;34m'('\u001b[0m\u001b[0;34m,\u001b[0m\u001b[0;34m')'\u001b[0m\u001b[0;34m,\u001b[0m\u001b[0;34m'}'\u001b[0m\u001b[0;34m,\u001b[0m\u001b[0;34m']'\u001b[0m\u001b[0;34m]\u001b[0m\u001b[0;34m\u001b[0m\u001b[0;34m\u001b[0m\u001b[0m\n\u001b[1;32m      3\u001b[0m \u001b[0mtext\u001b[0m\u001b[0;34m=\u001b[0m\u001b[0mf\u001b[0m\u001b[0;34m.\u001b[0m\u001b[0mread\u001b[0m\u001b[0;34m(\u001b[0m\u001b[0;34m)\u001b[0m\u001b[0;34m.\u001b[0m\u001b[0msplit\u001b[0m\u001b[0;34m(\u001b[0m\u001b[0;34m'}'\u001b[0m\u001b[0;34m)\u001b[0m\u001b[0;34m\u001b[0m\u001b[0;34m\u001b[0m\u001b[0m\n\u001b[1;32m      4\u001b[0m \u001b[0mclustertext\u001b[0m\u001b[0;34m=\u001b[0m\u001b[0mtext\u001b[0m\u001b[0;34m[\u001b[0m\u001b[0;36m0\u001b[0m\u001b[0;34m]\u001b[0m\u001b[0;34m.\u001b[0m\u001b[0msplit\u001b[0m\u001b[0;34m(\u001b[0m\u001b[0;34m'['\u001b[0m\u001b[0;34m)\u001b[0m\u001b[0;34m\u001b[0m\u001b[0;34m\u001b[0m\u001b[0m\n\u001b[1;32m      5\u001b[0m \u001b[0msolotext\u001b[0m\u001b[0;34m=\u001b[0m\u001b[0mtext\u001b[0m\u001b[0;34m[\u001b[0m\u001b[0;36m1\u001b[0m\u001b[0;34m]\u001b[0m\u001b[0;34m.\u001b[0m\u001b[0msplit\u001b[0m\u001b[0;34m(\u001b[0m\u001b[0;34m'('\u001b[0m\u001b[0;34m)\u001b[0m\u001b[0;34m\u001b[0m\u001b[0;34m\u001b[0m\u001b[0m\n",
      "\u001b[0;31mFileNotFoundError\u001b[0m: [Errno 2] No such file or directory: 'saida.txt'"
     ]
    }
   ],
   "source": [
    "f = open(\"saida.txt\", \"r\")\n",
    "nonnumbers=['(',')','}',']']\n",
    "text=f.read().split('}')\n",
    "clustertext=text[0].split('[')\n",
    "solotext=text[1].split('(')\n",
    "#print(len(solotext[2]))\n",
    "biclusters=[]\n",
    "v_cluster=[[] for x in range(v)]\n",
    "u_cluster=[[] for x in range(u)]\n",
    "#Clusters\n",
    "for i,a in enumerate(clustertext[1:]):\n",
    "    bicluster=[]\n",
    "    for j,b in enumerate(a.split('),')):\n",
    "        array=[]\n",
    "        for k,c in enumerate(b.replace('],','').split(',')):\n",
    "            txt=c\n",
    "            for r in nonnumbers:\n",
    "                txt=txt.replace(r, \"\")\n",
    "            if(txt!=''):\n",
    "                code=int(txt)\n",
    "                array.append(code)\n",
    "                if(not j):\n",
    "                    v_cluster[code].append(i)\n",
    "                else:\n",
    "                    u_cluster[code].append(i)\n",
    "        bicluster.append(array)\n",
    "    biclusters.append(bicluster)\n",
    "#Solos\n",
    "#for i,a in enumerate(solotext[1:]):\n",
    "#    for j,b in enumerate(a.split(',')):\n",
    "#        txt=b\n",
    "#        for r in nonnumbers:\n",
    "#            txt=txt.replace(r, \"\")\n",
    "#       if(txt!=''):\n",
    "#           code=int(txt)\n",
    "#            new_row = {'code':code, 'cluster':None }\n",
    "#            if(j):\n",
    "#               v_cluster[code].append()\n",
    "#           else:\n",
    "#                u_cluster[code].append()\n",
    "print(u_cluster)"
   ]
  },
  {
   "cell_type": "code",
   "execution_count": null,
   "metadata": {
    "id": "ZqaqC2f3h1pn"
   },
   "outputs": [],
   "source": [
    "print(v_cluster)"
   ]
  },
  {
   "cell_type": "markdown",
   "metadata": {
    "id": "YSTI3GXEh1pv"
   },
   "source": [
    "# Get recomendations"
   ]
  },
  {
   "cell_type": "markdown",
   "metadata": {
    "id": "4rUba_lGh1px"
   },
   "source": [
    "### Calcula similaridade"
   ]
  },
  {
   "cell_type": "code",
   "execution_count": null,
   "metadata": {
    "id": "Jc-3Uh1wh1py"
   },
   "outputs": [],
   "source": [
    "def similarity (cod_viewed,cod_recomended,lista_adj_u,cluster_u):\n",
    "    total=len(cluster_u)\n",
    "    partial=len(set(cluster_u) & set(lista_adj_u[cod_recomended]))\n",
    "    #print(total,partial)\n",
    "    #print(set(recomendations) & set(lista_adj_u[cod_recomended]),sep='\\n')\n",
    "    if(partial==0):\n",
    "        return 0\n",
    "    return partial/total\n",
    "        "
   ]
  },
  {
   "cell_type": "code",
   "execution_count": null,
   "metadata": {
    "id": "QuViXRgkh1p1"
   },
   "outputs": [],
   "source": [
    "#def similarity (cod_viewed,cod_recomended,lista_adj_u,recomendations):\n",
    "#    total=len(recomendations)\n",
    "#    clusters\n",
    "#    partial=len(set(recomendations) & set(lista_adj_u[cod_recomended]))\n",
    "#    print(total,partial)\n",
    "#    print(set(recomendations) & set(lista_adj_u[cod_recomended]),sep='\\n')\n",
    "#    if(partial==0):\n",
    "#        return 0\n",
    "#    return partial/total\n",
    "        "
   ]
  },
  {
   "cell_type": "markdown",
   "metadata": {
    "id": "M8UoMVCWh1p4"
   },
   "source": [
    "### Cliente"
   ]
  },
  {
   "cell_type": "code",
   "execution_count": null,
   "metadata": {
    "id": "ZKZvH_GFh1p5",
    "outputId": "239686bc-19ea-4b93-9415-d7faa8fbd5d7"
   },
   "outputs": [],
   "source": [
    "cliente='9NW44N01'\n",
    "try:\n",
    "    recomendations=[]\n",
    "    cliente_key=convert_cliente[cliente]\n",
    "    clusters=v_cluster[cliente_key]\n",
    "    for a in clusters:\n",
    "        for j,b in enumerate(biclusters[a]):\n",
    "            if(j==1):\n",
    "                for x in b:\n",
    "                    recomendations.append(x)\n",
    "    print(recomendations)\n",
    "except KeyError:\n",
    "    print(\"Cliente não encontrado\")\n",
    "except:\n",
    "    print(\"Erro inesperado encontrado, contacte o administrador\")\n"
   ]
  },
  {
   "cell_type": "markdown",
   "metadata": {
    "id": "HzAywQqlh1qA"
   },
   "source": [
    "### Produto"
   ]
  },
  {
   "cell_type": "code",
   "execution_count": null,
   "metadata": {
    "id": "GFgTpi7Ch1qF",
    "outputId": "d56b007b-c0a2-413f-e68f-9ea96d627eea"
   },
   "outputs": [],
   "source": [
    "produto=26243\n",
    "#try:\n",
    "recomendations=[]\n",
    "produto_key=convert_produto[produto]\n",
    "clusters=u_cluster[produto_key]\n",
    "scores=[]\n",
    "print(clusters)\n",
    "for a in clusters:\n",
    "    for j,b in enumerate(biclusters[a]):\n",
    "        if(j==1):\n",
    "            for x in b:\n",
    "                if(x not in recomendations and x!= produto_key):\n",
    "                    recomendations.append(x)\n",
    "                    scores.append(similarity(produto_key,x,lista_adj_u,b))\n",
    "#print(recomendations)\n",
    "\n",
    "#print(\"SCORES\")\n",
    "print(scores)\n",
    "#except KeyError:\n",
    "#    print(\"Cliente não encontrado\")\n",
    "#except:\n",
    "#    print(\"Erro inesperado encontrado, contacte o administrador\")\n"
   ]
  },
  {
   "cell_type": "markdown",
   "metadata": {
    "id": "RsYdgtzEh1qK"
   },
   "source": [
    "### Usando vizinhos segundos para clientes"
   ]
  },
  {
   "cell_type": "code",
   "execution_count": null,
   "metadata": {
    "id": "EzECyRp0h1qL",
    "outputId": "f00f832e-3ef0-4fc8-d663-820fb7ec476a"
   },
   "outputs": [],
   "source": [
    "cliente='9NW44N01'\n",
    "try:\n",
    "    recomendations=[]\n",
    "    cliente_key=convert_cliente[cliente]\n",
    "    clusters=v_cluster[cliente_key]\n",
    "    for a in clusters:\n",
    "        for j,b in enumerate(biclusters[a]):\n",
    "            if(j==1):\n",
    "                for x in b:\n",
    "                    recomendations.append(x)\n",
    "            else:\n",
    "                for viz in b:\n",
    "                    for clu in v_cluster[viz]:\n",
    "                        for i,el in enumerate(biclusters[clu]):\n",
    "                            if(i==1):\n",
    "                                for pro in el:\n",
    "                                    if(pro not in recomendations):\n",
    "                                        print(pro)\n",
    "                                        recomendations.append(pro)\n",
    "    comprados=[]\n",
    "    compras_cliente=newdf[newdf.COD_CLIENTE==cliente]\n",
    "    for x in compras_cliente.COD_PRODUTO:\n",
    "        comprados.append(convert_produto[x])\n",
    "    recomendations=list(filter(lambda a: a not in comprados, recomendations))\n",
    "    print(recomendations)\n",
    "except KeyError:\n",
    "    print(\"Cliente não encontrado\")\n",
    "except:\n",
    "    print(\"Erro inesperado encontrado, contacte o administrador\")\n"
   ]
  },
  {
   "cell_type": "markdown",
   "metadata": {
    "id": "z7iv3u8sh1qV"
   },
   "source": [
    "### Usando vizinhos segundos para produtos"
   ]
  },
  {
   "cell_type": "code",
   "execution_count": null,
   "metadata": {
    "id": "cfPh0q2Nh1qV",
    "outputId": "83b04d96-8490-4281-9f1a-b76656ee9068"
   },
   "outputs": [],
   "source": [
    "produto=26243\n",
    "try:\n",
    "    recomendations=[]\n",
    "    produto_key=convert_produto[produto]\n",
    "    clusters=u_cluster[cliente_key]\n",
    "    for a in clusters:\n",
    "        for j,b in enumerate(biclusters[a]):\n",
    "            if(j==0):\n",
    "                for x in b:\n",
    "                    recomendations.append(x)\n",
    "            else:\n",
    "                for viz in b:\n",
    "                    for clu in v_cluster[viz]:\n",
    "                        for i,el in enumerate(biclusters[clu]):\n",
    "                            if(i==1):\n",
    "                                for pro in el:\n",
    "                                    if(pro not in recomendations):\n",
    "                                        print(pro)\n",
    "                                        recomendations.append(pro)\n",
    "    print(recomendations)\n",
    "except KeyError:\n",
    "    print(\"Cliente não encontrado\")\n",
    "except:\n",
    "    print(\"Erro inesperado encontrado, contacte o administrador\")\n"
   ]
  },
  {
   "cell_type": "code",
   "execution_count": null,
   "metadata": {
    "id": "OqU0G0Z0h1qa"
   },
   "outputs": [],
   "source": [
    "import shlex\n",
    "from subprocess import Popen, PIPE\n",
    "def get_exitcode_stdout_stderr(cmd):\n",
    "    \"\"\"\n",
    "    Execute the external command and get its exitcode, stdout and stderr.\n",
    "    \"\"\"\n",
    "    args = shlex.split(cmd)\n",
    "\n",
    "    proc = Popen(args, stdout=PIPE, stderr=PIPE)\n",
    "    out, err = proc.communicate()\n",
    "    exitcode = proc.returncode\n",
    "    #\n",
    "    return exitcode, out, err\n",
    "\n",
    "cmd = './AMRPB Adjacency_list.txt'  # arbitrary external command, e.g. \"python mytest.py\"\n",
    "exitcode, out, err = get_exitcode_stdout_stderr(cmd)"
   ]
  },
  {
   "cell_type": "code",
   "execution_count": null,
   "metadata": {
    "id": "qyF23tv3h1qg",
    "outputId": "51d9cb8e-7868-4b30-a258-6be5ce895405"
   },
   "outputs": [],
   "source": [
    "f = out.decode(\"utf-8\").split('\\n')[-1]\n",
    "nonnumbers=['(',')','}',']']\n",
    "text=f.split('}')\n",
    "clustertext=text[0].split('[')\n",
    "solotext=text[1].split('(')\n",
    "#print(len(solotext[2]))\n",
    "biclusters=[]\n",
    "v_cluster=[[] for x in range(v)]\n",
    "u_cluster=[[] for x in range(u)]\n",
    "#Clusters\n",
    "for i,a in enumerate(clustertext[1:]):\n",
    "    bicluster=[]\n",
    "    for j,b in enumerate(a.split('),')):\n",
    "        array=[]\n",
    "        for k,c in enumerate(b.replace('],','').split(',')):\n",
    "            txt=c\n",
    "            for r in nonnumbers:\n",
    "                txt=txt.replace(r, \"\")\n",
    "            if(txt!=''):\n",
    "                code=int(txt)\n",
    "                array.append(code)\n",
    "                if(not j):\n",
    "                    v_cluster[code].append(i)\n",
    "                else:\n",
    "                    u_cluster[code].append(i)\n",
    "        bicluster.append(array)\n",
    "    biclusters.append(bicluster)\n",
    "#Solos\n",
    "#for i,a in enumerate(solotext[1:]):\n",
    "#    for j,b in enumerate(a.split(',')):\n",
    "#        txt=b\n",
    "#        for r in nonnumbers:\n",
    "#            txt=txt.replace(r, \"\")\n",
    "#       if(txt!=''):\n",
    "#           code=int(txt)\n",
    "#            new_row = {'code':code, 'cluster':None }\n",
    "#            if(j):\n",
    "#               v_cluster[code].append()\n",
    "#           else:\n",
    "#                u_cluster[code].append()\n",
    "print(u_cluster)"
   ]
  },
  {
   "cell_type": "code",
   "execution_count": null,
   "metadata": {},
   "outputs": [],
   "source": []
  }
 ],
 "metadata": {
  "colab": {
   "name": "TransformarBD.ipynb",
   "provenance": []
  },
  "kernelspec": {
   "display_name": "Python 3",
   "language": "python",
   "name": "python3"
  },
  "language_info": {
   "codemirror_mode": {
    "name": "ipython",
    "version": 3
   },
   "file_extension": ".py",
   "mimetype": "text/x-python",
   "name": "python",
   "nbconvert_exporter": "python",
   "pygments_lexer": "ipython3",
   "version": "3.8.5"
  }
 },
 "nbformat": 4,
 "nbformat_minor": 4
}
