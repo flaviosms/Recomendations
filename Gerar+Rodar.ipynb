{
 "cells": [
  {
   "cell_type": "code",
   "execution_count": 1,
   "metadata": {},
   "outputs": [],
   "source": [
    "import pandas as pd\n",
    "import numpy as np"
   ]
  },
  {
   "cell_type": "code",
   "execution_count": 2,
   "metadata": {},
   "outputs": [],
   "source": [
    "basedf = pd.read_excel('dados_vendas.xlsx')"
   ]
  },
  {
   "cell_type": "code",
   "execution_count": 3,
   "metadata": {},
   "outputs": [
    {
     "name": "stdout",
     "output_type": "stream",
     "text": [
      "257393 64348\n"
     ]
    }
   ],
   "source": [
    "basedf.sort_values(['HORA'],ascending=[1])\n",
    "percentage=0.8\n",
    "cutpoint=round(len(basedf)*percentage)\n",
    "train,test=basedf[:cutpoint],basedf[cutpoint:]\n",
    "print(len(train),len(test))"
   ]
  },
  {
   "cell_type": "code",
   "execution_count": 4,
   "metadata": {},
   "outputs": [],
   "source": [
    "df= train[['COD_CLIENTE','COD_PRODUTO']]\n",
    "df=df.drop_duplicates(keep='first')\n",
    "v=df['COD_CLIENTE'].nunique()\n",
    "u=df['COD_PRODUTO'].nunique()\n",
    "convert_cliente={}\n",
    "revert_cliente=['' for x in range(v)]\n",
    "c=0\n",
    "for x in df['COD_CLIENTE'].unique():\n",
    "    convert_cliente[x]=c\n",
    "    revert_cliente[c]=x\n",
    "    c+=1\n",
    "convert_produto={}\n",
    "revert_produto=['' for x in range(u)]\n",
    "c=0\n",
    "for x in df['COD_PRODUTO'].unique():\n",
    "    convert_produto[x]=c\n",
    "    revert_produto[c]=x\n",
    "    c+=1\n",
    "lista_adj=[[] for x in range(v)]\n",
    "lista_adj_u=[[] for x in range(u)]\n",
    "for i,j in df.iterrows():\n",
    "    lista_adj[convert_cliente[j[0]]].append(convert_produto[j[1]])\n",
    "    lista_adj_u[convert_produto[j[1]]].append(convert_cliente[j[0]])\n",
    "outputname=\"Adjacency_list.txt\"\n",
    "text_file = open(outputname, \"w\")\n",
    "text_file.write(str(v)+'\\n')\n",
    "text_file.write(str(u)+'\\n')\n",
    "for j in lista_adj:\n",
    "    txt=str(j)[1:-1].replace(',',' ')\n",
    "    text_file.write( txt+'\\n')\n",
    "text_file.close()\n"
   ]
  },
  {
   "cell_type": "code",
   "execution_count": 5,
   "metadata": {},
   "outputs": [],
   "source": [
    "import shlex\n",
    "from subprocess import Popen, PIPE\n",
    "def get_exitcode_stdout_stderr(cmd):\n",
    "    \"\"\"\n",
    "    Execute the external command and get its exitcode, stdout and stderr.\n",
    "    \"\"\"\n",
    "    args = shlex.split(cmd)\n",
    "\n",
    "    proc = Popen(args, stdout=PIPE, stderr=PIPE)\n",
    "    out, err = proc.communicate()\n",
    "    exitcode = proc.returncode\n",
    "    #\n",
    "    return exitcode, out, err\n",
    "\n",
    "cmd = './AMRPB Adjacency_list.txt'  # arbitrary external command, e.g. \"python mytest.py\"\n",
    "exitcode, out, err = get_exitcode_stdout_stderr(cmd)"
   ]
  },
  {
   "cell_type": "code",
   "execution_count": 6,
   "metadata": {},
   "outputs": [
    {
     "name": "stdout",
     "output_type": "stream",
     "text": [
      "[[84, 89, 122], [66, 89, 105], [65, 76, 78, 93, 94, 102, 104, 110, 116, 122], [], [], [86, 105], [87, 97], [], [], [97, 129], [4, 31, 60], [89, 107], [], [89], [111, 132], [], [10, 11, 15, 43, 51, 74, 89, 93, 105, 107, 122, 130, 132], [], [], [15, 20, 45], [0, 11, 20, 58], [89], [], [], [66, 78], [], [85], [], [], [], [], [71, 107], [71, 97], [], [92], [], [], [], [], [98, 125], [124], [89], [], [], [], [], [], [66, 89, 108], [89], [], [97], [], [], [89], [12, 32, 61], [0, 12, 22, 44], [], [], [], [66, 102], [], [7, 27, 53], [66], [26, 62], [], [85], [106], [85, 87], [], [], [], [], [], [], [], [2, 29, 56], [], [12, 31, 61], [122], [], [15, 23, 43], [], [6, 33, 52], [85, 89], [], [66, 92, 115], [105], [], [], [], [8, 19, 46], [34, 56], [], [], [98], [9, 31, 60], [62], [9, 28, 52], [2, 25, 54], [], [13, 23, 49], [], [], [92], [], [98, 115], [], [], [], [1, 34, 61], [85], [], [7, 37, 51], [98], [41, 54], [15, 31, 57], [69], [87], [34], [], [], [], [], [], [], [], [], [39, 56], [8, 23, 46], [], [], [89, 128, 133, 139], [], [], [], [1, 25, 61], [], [], [], [85], [0, 16, 20, 60], [], [], [], [13, 36, 46], [8, 36, 44], [14, 42, 44], [6, 19, 53], [10, 22, 47], [13, 40, 50], [], [25, 64], [], [4, 40, 45], [110], [105], [19], [42], [], [124], [48], [], [89], [66], [], [42, 62], [6, 40, 47], [98], [27, 51], [], [], [], [8, 35, 55], [105, 129], [106], [10, 34, 64], [7, 38, 55], [58], [], [7, 26, 43], [80], [], [6, 19, 51], [], [], [4, 33, 44], [39, 60], [0, 5, 27, 48], [], [65], [1, 28, 50], [1, 18, 49], [], [71], [86], [], [84], [59], [20], [92], [67], [], [], [9, 37, 49], [108], [], [73], [], [14, 33, 47], [], [], [], [], [32], [3, 33, 63], [0, 15, 33, 50], [], [], [], [], [11, 32, 43], [], [15, 20, 45], [16, 33, 56], [77], [], [], [], [], [], [11, 22, 57], [15, 32, 43], [], [38, 57], [], [], [10, 51], [], [29], [], [35, 52], [13, 24, 46], [], [3, 27, 63], [3, 24, 63], [87], [28, 53], [12, 28, 48], [], [90], [83], [84], [41], [70], [], [16, 39, 46], [7, 26, 43], [], [], [40, 55], [21, 52], [15, 32, 51], [], [], [30], [130], [90], [9, 29, 56], [], [125], [3, 29, 54], [5, 24, 62], [35, 56], [107], [36, 47], [16, 39, 48], [75], [94], [2, 35, 54], [], [10, 18, 44], [], [29], [68], [22], [], [3, 18, 63], [1, 27, 49], [93], [41], [], [24], [34, 61], [], [], [11, 42, 50], [89, 127], [127], [2, 25, 53], [116], [41, 54], [39], [], [18], [82], [88], [67], [12, 17, 48], [], [13, 28, 64], [30], [40, 61], [9, 31, 56], [5, 21, 45], [], [76], [8, 23, 47], [115], [], [92], [7, 26, 58], [5, 27, 45], [21, 64], [17, 51], [], [], [], [], [40, 61], [18], [97], [], [98], [14, 20, 44], [2, 31, 57], [99], [74], [], [101], [11, 38, 43], [], [27], [122], [27], [14, 30, 49], [36], [104], [102], [5, 37, 55], [133], [], [108], [], [115, 130], [17], [103], [22], [13, 39, 50], [], [37], [17], [], [], [91], [4, 21, 58], [], [], [105], [25], [], [], [], [9, 32, 50], [], [5, 21, 52], [], [110], [21], [], [21], [21, 57], [21], [89], [2, 27, 54], [], [], [], [], [117], [4, 53], [], [72], [38, 55], [], [124], [], [95], [110, 120], [], [35, 61], [24, 63], [13, 26, 64], [112], [113], [], [47], [135], [4, 21, 58], [], [21], [], [], [114], [], [38], [7, 35, 58], [17], [118], [], [], [78], [84], [10, 22, 62], [], [95, 115, 127], [107], [], [], [], [81], [89, 105], [85], [], [119], [], [], [], [], [], [], [], [39, 60], [], [85, 89, 98, 133], [], [39, 56], [11, 30, 58], [16, 23, 54], [], [], [], [], [84], [130], [], [41, 63], [122], [109], [125], [127], [119], [34, 59], [], [121], [], [123], [], [], [], [], [], [], [16, 53], [], [], [], [115], [], [136], [], [], [], [126], [126], [100], [], [], [], [89], [], [], [], [105], [10, 38, 53], [], [], [4, 53], [], [], [6, 23, 49], [20], [111], [], [], [], [], [26, 59], [129], [], [], [79], [], [14, 20, 48], [], [], [], [], [], [], [4, 24, 59], [], [], [], [], [96], [133], [], [], [], [], [], [], [86], [], [], [], [120], [42], [], [134], [20, 58], [], [], [], [137], [], [], [], [], [], [16, 19, 46], [132], [], [], [], [14, 36, 51], [], [], [], [], [], [], [138], [14, 27, 59], [139], [], [], [], [], [], [], [], [], [], [], [], [], [], [], [], [], [], [], [], [], [], [], [106], [], [], [], [128], [21, 63], [], [], [], [], [], [], [131], [], [], [], [], [], [], [], [], [], [], [], [], [], [140], [30], [], [], [], [], [37, 63], [], [], [], [124], [], [41], [], [], [], [], [], [], [], []]\n"
     ]
    }
   ],
   "source": [
    "\n",
    "f = out.decode(\"utf-8\").split('\\n')[-1]\n",
    "nonnumbers=['(',')','}',']']\n",
    "text=f.split('}')\n",
    "clustertext=text[0].split('[')\n",
    "solotext=text[1].split('(')\n",
    "#print(len(solotext[2]))\n",
    "biclusters=[]\n",
    "v_cluster=[[] for x in range(v)]\n",
    "u_cluster=[[] for x in range(u)]\n",
    "#Clusters\n",
    "for i,a in enumerate(clustertext[1:]):\n",
    "    bicluster=[]\n",
    "    for j,b in enumerate(a.split('),')):\n",
    "        array=[]\n",
    "        for k,c in enumerate(b.replace('],','').split(',')):\n",
    "            txt=c\n",
    "            for r in nonnumbers:\n",
    "                txt=txt.replace(r, \"\")\n",
    "            if(txt!=''):\n",
    "                code=int(txt)\n",
    "                array.append(code)\n",
    "                if(not j):\n",
    "                    v_cluster[code].append(i)\n",
    "                else:\n",
    "                    u_cluster[code].append(i)\n",
    "        bicluster.append(array)\n",
    "    biclusters.append(bicluster)\n",
    "#Solos\n",
    "#for i,a in enumerate(solotext[1:]):\n",
    "#    for j,b in enumerate(a.split(',')):\n",
    "#        txt=b\n",
    "#        for r in nonnumbers:\n",
    "#            txt=txt.replace(r, \"\")\n",
    "#       if(txt!=''):\n",
    "#           code=int(txt)\n",
    "#            new_row = {'code':code, 'cluster':None }\n",
    "#            if(j):\n",
    "#               v_cluster[code].append()\n",
    "#           else:\n",
    "#                u_cluster[code].append()\n",
    "print(u_cluster)"
   ]
  },
  {
   "cell_type": "code",
   "execution_count": 7,
   "metadata": {},
   "outputs": [],
   "source": [
    "def similarity (cod_viewed,cod_recomended,lista_adj_u,cluster_u):\n",
    "    total=len(cluster_u)\n",
    "    partial=len(set(cluster_u) & set(lista_adj_u[cod_recomended]))\n",
    "    #print(total,partial)\n",
    "    #print(set(recomendations) & set(lista_adj_u[cod_recomended]),sep='\\n')\n",
    "    if(partial==0):\n",
    "        return 0\n",
    "    return partial/total\n",
    "        "
   ]
  },
  {
   "cell_type": "code",
   "execution_count": 8,
   "metadata": {},
   "outputs": [],
   "source": [
    "#def similarity (cod_viewed,cod_recomended,lista_adj_u,recomendations):\n",
    "#    total=len(recomendations)\n",
    "#    clusters\n",
    "#    partial=len(set(recomendations) & set(lista_adj_u[cod_recomended]))\n",
    "#    print(total,partial)\n",
    "#    print(set(recomendations) & set(lista_adj_u[cod_recomended]),sep='\\n')\n",
    "#    if(partial==0):\n",
    "#        return 0\n",
    "#    return partial/total\n",
    "        "
   ]
  },
  {
   "cell_type": "markdown",
   "metadata": {},
   "source": [
    "### Cliente"
   ]
  },
  {
   "cell_type": "code",
   "execution_count": 9,
   "metadata": {},
   "outputs": [],
   "source": [
    "def recomenda_cliente(cliente,convert_cliente,v_cluster,biclusters):\n",
    "    try:\n",
    "        recomendations=[]\n",
    "        cliente_key=convert_cliente[cliente]\n",
    "        clusters=v_cluster[cliente_key]\n",
    "        for a in clusters:\n",
    "            for j,b in enumerate(biclusters[a]):\n",
    "                if(j==1):\n",
    "                    for x in b:\n",
    "                        recomendations.append(x)\n",
    "        return recomendations\n",
    "    except KeyError:\n",
    "        return 404 #\"Cliente não encontrado\"\n",
    "    except:\n",
    "        return -1 #\"Erro inesperado encontrado, contacte o administrador\"\n"
   ]
  },
  {
   "cell_type": "markdown",
   "metadata": {},
   "source": [
    "### Produto"
   ]
  },
  {
   "cell_type": "code",
   "execution_count": 133,
   "metadata": {},
   "outputs": [],
   "source": [
    "def recomenda_produto(produto,convert_produto,u_cluster,biclusters):\n",
    "    try:\n",
    "        recomendations=[]\n",
    "        produto_key=convert_produto[produto]\n",
    "        clusters=u_cluster[produto_key]\n",
    "        scores=[]\n",
    "        for a in clusters:\n",
    "            for j,b in enumerate(biclusters[a]):\n",
    "                if(j==1):\n",
    "                    for x in b:\n",
    "                        if(x not in recomendations and x!= produto_key):\n",
    "                            recomendations.append(x)\n",
    "                            scores.append(similarity(produto_key,x,lista_adj_u,b))\n",
    "        return [recomendations,scores]\n",
    "    except KeyError:\n",
    "        return 404 #\"Produto não encontrado\"\n",
    "    except:\n",
    "        return -1 #\"Erro inesperado encontrado, contacte o administrador\"\n"
   ]
  },
  {
   "cell_type": "markdown",
   "metadata": {},
   "source": [
    "### Usando vizinhos segundos para clientes"
   ]
  },
  {
   "cell_type": "code",
   "execution_count": 21,
   "metadata": {},
   "outputs": [],
   "source": [
    "def recomenda_cliente_segundos(cliente,convert_cliente,v_cluster,biclusters):\n",
    "    try:\n",
    "        recomendations=[]\n",
    "        cliente_key=convert_cliente[cliente]\n",
    "        clusters=v_cluster[cliente_key]\n",
    "        for a in clusters:\n",
    "            for j,b in enumerate(biclusters[a]):\n",
    "                if(j==1):\n",
    "                    for x in b:\n",
    "                        recomendations.append(x)\n",
    "                else:\n",
    "                    for viz in b:\n",
    "                        for clu in v_cluster[viz]:\n",
    "                            for i,el in enumerate(biclusters[clu]):\n",
    "                                if(i==1):\n",
    "                                    for pro in el:\n",
    "                                        if(pro not in recomendations):\n",
    "                                            #print(pro)\n",
    "                                            recomendations.append(pro)\n",
    "        #comprados=[]\n",
    "        #compras_cliente=newdf[newdf.COD_CLIENTE==cliente]\n",
    "        #for x in compras_cliente.COD_PRODUTO:\n",
    "        #    comprados.append(convert_produto[x])\n",
    "        #recomendations=list(filter(lambda a: a not in comprados, recomendations))\n",
    "        return recomendations\n",
    "    except KeyError:\n",
    "        return 404 #\"Cliente não encontrado\"\n",
    "    except:\n",
    "        return -1 #\"Erro inesperado encontrado, contacte o administrador\"\n"
   ]
  },
  {
   "cell_type": "markdown",
   "metadata": {},
   "source": [
    "### Usando vizinhos segundos para produtos"
   ]
  },
  {
   "cell_type": "code",
   "execution_count": 12,
   "metadata": {},
   "outputs": [],
   "source": [
    "def recomenda_produto_segundos(produto):\n",
    "    try:\n",
    "        recomendations=[]\n",
    "        produto_key=convert_produto[produto]\n",
    "        clusters=u_cluster[cliente_key]\n",
    "        for a in clusters:\n",
    "            for j,b in enumerate(biclusters[a]):\n",
    "                if(j==0):\n",
    "                    for x in b:\n",
    "                        recomendations.append(x)\n",
    "                else:\n",
    "                    for viz in b:\n",
    "                        for clu in v_cluster[viz]:\n",
    "                            for i,el in enumerate(biclusters[clu]):\n",
    "                                if(i==1):\n",
    "                                    for pro in el:\n",
    "                                        if(pro not in recomendations):\n",
    "                                            print(pro)\n",
    "                                            recomendations.append(pro)\n",
    "        print(recomendations)\n",
    "    except KeyError:\n",
    "        return 404 #\"Produto não encontrado\"\n",
    "    except:\n",
    "        return -1 #\"Erro inesperado encontrado, contacte o administrador\"\n"
   ]
  },
  {
   "cell_type": "code",
   "execution_count": 121,
   "metadata": {},
   "outputs": [
    {
     "name": "stdout",
     "output_type": "stream",
     "text": [
      "(62973, 2)\n"
     ]
    }
   ],
   "source": [
    "test= test[['COD_CLIENTE','COD_PRODUTO']]\n",
    "test=test.drop_duplicates(keep='first')\n",
    "v=test['COD_CLIENTE'].nunique()\n",
    "u=test['COD_PRODUTO'].nunique()\n",
    "#convert_cliente\n",
    "#revert_cliente\n",
    "#convert_produto\n",
    "#revert_produto\n",
    "print(test.shape)\n",
    "test_client=test[test['COD_CLIENTE'].isin(convert_cliente)]\n",
    "test_client.reset_index(drop=True,inplace=True)\n",
    "test_client=test_client.astype('str')\n",
    "test_client=test_client.groupby(by='COD_CLIENTE',as_index=False).agg(','.join)\n",
    "\n",
    "test_product=test[test['COD_PRODUTO'].isin(convert_produto)]\n",
    "test_product.reset_index(drop=True,inplace=True)\n",
    "test_product=test_product.astype('str')\n",
    "test_product=test_product.groupby(by='COD_PRODUTO',as_index=False).agg(','.join)"
   ]
  },
  {
   "cell_type": "markdown",
   "metadata": {},
   "source": [
    "### Por Cliente"
   ]
  },
  {
   "cell_type": "code",
   "execution_count": 122,
   "metadata": {},
   "outputs": [
    {
     "name": "stderr",
     "output_type": "stream",
     "text": [
      "<ipython-input-122-72f87089285d>:11: FutureWarning: elementwise comparison failed; returning scalar instead, but in the future will perform elementwise comparison\n",
      "  if(recomended!=[]):\n"
     ]
    },
    {
     "name": "stdout",
     "output_type": "stream",
     "text": [
      "Clientes na base de teste \t|Clientes após filtros \t|Clientes que receberam recomendações \t|Produtos Recomendados Corretamente\n",
      "54681 \t\t\t\t| 13152 \t\t| 534 \t\t\t\t\t| 99\n"
     ]
    }
   ],
   "source": [
    "got_recomended=0\n",
    "right_recomendations=0\n",
    "for i,x in test_client.iterrows():\n",
    "    total=len(x[1].split(','))\n",
    "    compras=x[1].split(',')\n",
    "    recomendations=recomenda_cliente_segundos(x[0],convert_cliente,v_cluster,biclusters)\n",
    "    recomendations=[revert_produto[x] for x in recomendations]\n",
    "    if(recomendations!=[]):\n",
    "        got_recomended+=1\n",
    "    recomended=np.intersect1d(compras,recomendations)\n",
    "    if(recomended!=[]):\n",
    "        right_recomendations+=len(recomended)\n",
    "print(\"Clientes na base de teste\",\"\\t|Clientes após filtros\",\"\\t|Clientes que receberam recomendações\",\"\\t|Produtos Recomendados Corretamente\")\n",
    "print(test['COD_CLIENTE'].nunique(),\"\\t\\t\\t\\t|\",len(test_client),\"\\t\\t|\",got_recomended,\"\\t\\t\\t\\t\\t|\",right_recomendations)"
   ]
  },
  {
   "cell_type": "markdown",
   "metadata": {},
   "source": [
    "### Por Cliente do Produto "
   ]
  },
  {
   "cell_type": "code",
   "execution_count": null,
   "metadata": {},
   "outputs": [
    {
     "name": "stderr",
     "output_type": "stream",
     "text": [
      "<ipython-input-158-b80c2ce841ac>:18: FutureWarning: elementwise comparison failed; returning scalar instead, but in the future will perform elementwise comparison\n",
      "  if(recomended!=[]):\n",
      "<ipython-input-158-b80c2ce841ac>:18: DeprecationWarning: The truth value of an empty array is ambiguous. Returning False, but in future this will result in an error. Use `array.size > 0` to check that an array is not empty.\n",
      "  if(recomended!=[]):\n"
     ]
    }
   ],
   "source": [
    "\n",
    "right_recomendations=0\n",
    "cliente_search=test.reset_index(drop=True)\n",
    "cliente_search=cliente_search.astype('str')\n",
    "cliente_search=cliente_search.groupby(by='COD_CLIENTE',as_index=False).agg(','.join)\n",
    "cliente_search=cliente_search.set_index('COD_CLIENTE')\n",
    "for i,x in test_product.iterrows():\n",
    "    compras=[]\n",
    "    total=len(x[1].split(','))\n",
    "    compradores=x[1].split(',')\n",
    "    for y in compradores:\n",
    "        for z in cliente_search.loc[y].values:\n",
    "            for w in z.split(','):\n",
    "                if(w not in compras and w!=x[0]):\n",
    "                    compras.append(w)\n",
    "    recomendations=recomenda_produto(int(x[0]),convert_produto,u_cluster,biclusters)[0]\n",
    "    recomendations=[revert_produto[x] for x in recomendations]\n",
    "    recomended=np.intersect1d(compras,recomendations)\n",
    "    if(recomended!=[]):\n",
    "        right_recomendations+=len(recomended)\n",
    "    #print(x[0],compras,recomendations)\n",
    "print(\"Produtos na base de teste\",\"\\t|Produtos após filtros\",\"\\t|Produtos Recomendados Corretamente\")\n",
    "print(test['COD_PRODUTO'].nunique(),\"\\t\\t\\t\\t|\",len(test_product),\"\\t\\t\\t|\",right_recomendations)"
   ]
  },
  {
   "cell_type": "code",
   "execution_count": null,
   "metadata": {},
   "outputs": [],
   "source": []
  },
  {
   "cell_type": "code",
   "execution_count": null,
   "metadata": {},
   "outputs": [],
   "source": []
  },
  {
   "cell_type": "code",
   "execution_count": null,
   "metadata": {},
   "outputs": [],
   "source": []
  },
  {
   "cell_type": "code",
   "execution_count": null,
   "metadata": {},
   "outputs": [],
   "source": []
  },
  {
   "cell_type": "code",
   "execution_count": null,
   "metadata": {},
   "outputs": [],
   "source": []
  }
 ],
 "metadata": {
  "kernelspec": {
   "display_name": "Python 3",
   "language": "python",
   "name": "python3"
  },
  "language_info": {
   "codemirror_mode": {
    "name": "ipython",
    "version": 3
   },
   "file_extension": ".py",
   "mimetype": "text/x-python",
   "name": "python",
   "nbconvert_exporter": "python",
   "pygments_lexer": "ipython3",
   "version": "3.8.2"
  }
 },
 "nbformat": 4,
 "nbformat_minor": 4
}
