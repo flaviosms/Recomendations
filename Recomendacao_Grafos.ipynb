{
 "cells": [
  {
   "cell_type": "code",
   "execution_count": 8,
   "metadata": {},
   "outputs": [],
   "source": [
    "import numpy as np"
   ]
  },
  {
   "cell_type": "code",
   "execution_count": 216,
   "metadata": {},
   "outputs": [],
   "source": [
    "class Input:\n",
    "  def __init__(self, File):\n",
    "    inputs=File.read().split()\n",
    "    inputs=[int(i) for i in inputs]\n",
    "    self.v=inputs[0]\n",
    "    self.u=inputs[1]\n",
    "    \n",
    "    self.a_matrix=np.zeros((self.v,self.u)) #Initializing adjacency matrix\n",
    "    \n",
    "    self.v_list=[[] for i in range(self.v)] #Initializing adjacency lists\n",
    "    self.u_list=[[] for i in range(self.u)]\n",
    "    \n",
    "    self.s_v_list=[[] for i in range(self.v)] #Initializing second order adjacency lists\n",
    "    self.s_v_list=[[] for i in range(self.u)]\n",
    "    \n",
    "    for i,x in enumerate(inputs[2:]):\n",
    "        if(x==0):\n",
    "            continue\n",
    "        current_v=int(i/self.u)\n",
    "        current_u=i%self.u\n",
    "        self.v_list[current_v].append(current_u)\n",
    "        self.u_list[current_u].append(current_v)\n",
    "        self.a_matrix[current_v][current_u]=1\n",
    "    for a,b in enumerate(self.v_list):\n",
    "        for c in b:\n",
    "            for d in self.u_list[c]:\n",
    "                if(d not in self.s_v_list[a]):\n",
    "                    self.s_v_list[a].append(d)\n",
    "class Bicluster:\n",
    "    def __init__(self, v_array,u_array):\n",
    "        self.v_list=v_array\n",
    "        self.u_list=u_array\n",
    "        \n",
    "class Solution:\n",
    "    def __init__(self,a_matrix,v_clusters):\n",
    "        self.a_matrix=a_matrix\n",
    "        self.v_cluster=v_clusters\n",
    "    def __init__(self,v,u,v_clusters):\n",
    "        self.v_cluster=v_clusters\n",
    "        self.a_matrix=np.zeros((v,u)) \n",
    "        for a in v_clusters:\n",
    "            for b in a.v_list:\n",
    "                for c in a.u_list:\n",
    "                    self.a_matrix[b][c]=1\n",
    "    def evaluate(self,e_a_matrix):\n",
    "        npm1=np.matrix(e_a_matrix)\n",
    "        npm2=np.matrix(self.a_matrix)\n",
    "        return abs(np.matrix((npm1==npm2)-1).sum())\n",
    "    \n",
    "    def recomendations(self,e_a_matrix):\n",
    "        npm1=np.matrix(e_a_matrix)\n",
    "        npm2=np.matrix(self.a_matrix)\n",
    "        rec=(npm1==npm2-1)\n",
    "        rec_list=[]\n",
    "        for i,x in enumerate(rec):\n",
    "            for j,y in enumerate(x.flat):\n",
    "                if(y):\n",
    "                    rec_list.append([i,j])\n",
    "        return rec_list"
   ]
  },
  {
   "cell_type": "code",
   "execution_count": 217,
   "metadata": {
    "scrolled": true
   },
   "outputs": [
    {
     "name": "stdout",
     "output_type": "stream",
     "text": [
      "[1. 0. 0. 1. 1. 1. 1.]\n",
      "[0. 1. 1. 1. 1. 1. 0.]\n",
      "[1. 1. 0. 0. 0. 1. 0.]\n",
      "[0. 1. 0. 1. 0. 1. 0.]\n",
      "[1. 0. 1. 0. 0. 0. 0.]\n",
      "############\n",
      "[0. 0. 0. 1. 1. 1. 1.]\n",
      "[1. 1. 1. 0. 0. 0. 0.]\n",
      "[0. 0. 0. 1. 1. 1. 1.]\n",
      "[0. 0. 0. 1. 1. 1. 1.]\n",
      "[1. 1. 1. 0. 0. 0. 0.]\n"
     ]
    },
    {
     "data": {
      "text/plain": [
       "[[1, 0], [2, 3], [2, 4], [2, 6], [3, 4], [3, 6], [4, 1]]"
      ]
     },
     "execution_count": 217,
     "metadata": {},
     "output_type": "execute_result"
    }
   ],
   "source": [
    "f = open(\"V_5_U_7_D_0.5_S_1.dat\",'r') \n",
    "entrada=Input(f)\n",
    "ex_biclusters=[Bicluster([0,2,3],[3,4,5,6]),Bicluster([1,4],[0,1,2])]\n",
    "solucao=Solution(entrada.v,entrada.u,ex_biclusters)\n",
    "print(*entrada.a_matrix,sep='\\n')\n",
    "print(\"############\")\n",
    "print(*solucao.a_matrix,sep='\\n')\n",
    "solucao.evaluate(entrada.a_matrix)\n",
    "#print(entrada.a_matrix)\n",
    "solucao.recomendations(entrada.a_matrix)"
   ]
  },
  {
   "cell_type": "code",
   "execution_count": null,
   "metadata": {},
   "outputs": [],
   "source": []
  },
  {
   "cell_type": "code",
   "execution_count": null,
   "metadata": {},
   "outputs": [],
   "source": []
  }
 ],
 "metadata": {
  "kernelspec": {
   "display_name": "Python 3",
   "language": "python",
   "name": "python3"
  },
  "language_info": {
   "codemirror_mode": {
    "name": "ipython",
    "version": 3
   },
   "file_extension": ".py",
   "mimetype": "text/x-python",
   "name": "python",
   "nbconvert_exporter": "python",
   "pygments_lexer": "ipython3",
   "version": "3.7.4"
  }
 },
 "nbformat": 4,
 "nbformat_minor": 2
}
